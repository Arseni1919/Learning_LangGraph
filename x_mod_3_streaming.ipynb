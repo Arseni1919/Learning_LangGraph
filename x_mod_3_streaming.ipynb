{
 "cells": [
  {
   "metadata": {
    "SqlCellData": {
     "data_source_name": "chat",
     "variableName$1": "df_sql1"
    },
    "ExecuteTime": {
     "end_time": "2025-06-16T16:31:20.550610Z",
     "start_time": "2025-06-16T16:31:19.226461Z"
    }
   },
   "cell_type": "code",
   "source": [
    "%%sql\n",
    "SELECT * from checkpoints"
   ],
   "id": "13fa3e2f757bb83a",
   "outputs": [
    {
     "data": {
      "text/plain": [
       "    thread_id  checkpoint_ns                         checkpoint_id  \\\n",
       "0           1            NaN  1f04aa53-28d9-6604-bfff-8c5395f80bed   \n",
       "1           1            NaN  1f04aa53-28db-6c10-8000-95cc2c884983   \n",
       "2           1            NaN  1f04aa53-50b9-6fde-8001-746bf1772055   \n",
       "3           1            NaN  1f04aa53-5103-6bca-8002-8ee4d05df4ea   \n",
       "4           1            NaN  1f04aa53-5106-6618-8003-9b41dc6297ad   \n",
       "5           1            NaN  1f04aa53-5704-6b5a-8004-19a51b22f198   \n",
       "6           1            NaN  1f04aa53-5744-6ae8-8005-7588859f44f9   \n",
       "7           1            NaN  1f04aa53-5748-61ca-8006-a7c3662eb65b   \n",
       "8           1            NaN  1f04aa53-658e-6ae0-8007-47dba700f22f   \n",
       "9           1            NaN  1f04aa53-6602-636e-8008-c5327f74660c   \n",
       "10          1            NaN  1f04aa53-6604-69b6-8009-48d96a4c0a4a   \n",
       "11          1            NaN  1f04aa53-9388-628e-800a-4927c89e4b33   \n",
       "12          1            NaN  1f04aa53-bd57-634e-800b-c41476535214   \n",
       "\n",
       "                    parent_checkpoint_id     type  \\\n",
       "0                                    NaN  msgpack   \n",
       "1   1f04aa53-28d9-6604-bfff-8c5395f80bed  msgpack   \n",
       "2   1f04aa53-28db-6c10-8000-95cc2c884983  msgpack   \n",
       "3   1f04aa53-50b9-6fde-8001-746bf1772055  msgpack   \n",
       "4   1f04aa53-5103-6bca-8002-8ee4d05df4ea  msgpack   \n",
       "5   1f04aa53-5106-6618-8003-9b41dc6297ad  msgpack   \n",
       "6   1f04aa53-5704-6b5a-8004-19a51b22f198  msgpack   \n",
       "7   1f04aa53-5744-6ae8-8005-7588859f44f9  msgpack   \n",
       "8   1f04aa53-5748-61ca-8006-a7c3662eb65b  msgpack   \n",
       "9   1f04aa53-658e-6ae0-8007-47dba700f22f  msgpack   \n",
       "10  1f04aa53-6602-636e-8008-c5327f74660c  msgpack   \n",
       "11  1f04aa53-6604-69b6-8009-48d96a4c0a4a  msgpack   \n",
       "12  1f04aa53-9388-628e-800a-4927c89e4b33  msgpack   \n",
       "\n",
       "                                           checkpoint  \\\n",
       "0   0x87A17603A27473D920323032352D30362D3136543131...   \n",
       "1   0x87A17603A27473D920323032352D30362D3136543131...   \n",
       "2   0x87A17603A27473D920323032352D30362D3136543131...   \n",
       "3   0x87A17603A27473D920323032352D30362D3136543131...   \n",
       "4   0x87A17603A27473D920323032352D30362D3136543131...   \n",
       "5   0x87A17603A27473D920323032352D30362D3136543131...   \n",
       "6   0x87A17603A27473D920323032352D30362D3136543131...   \n",
       "7   0x87A17603A27473D920323032352D30362D3136543131...   \n",
       "8   0x87A17603A27473D920323032352D30362D3136543131...   \n",
       "9   0x87A17603A27473D920323032352D30362D3136543131...   \n",
       "10  0x87A17603A27473D920323032352D30362D3136543131...   \n",
       "11  0x87A17603A27473D920323032352D30362D3136543131...   \n",
       "12  0x87A17603A27473D920323032352D30362D3136543131...   \n",
       "\n",
       "                                             metadata  \n",
       "0   {\"source\": \"input\", \"writes\": {\"__start__\": {\"...  \n",
       "1   {\"source\": \"loop\", \"writes\": null, \"step\": 0, ...  \n",
       "2   {\"source\": \"loop\", \"writes\": {\"conversation\": ...  \n",
       "3   {\"source\": \"input\", \"writes\": {\"__start__\": {\"...  \n",
       "4   {\"source\": \"loop\", \"writes\": null, \"step\": 3, ...  \n",
       "5   {\"source\": \"loop\", \"writes\": {\"conversation\": ...  \n",
       "6   {\"source\": \"input\", \"writes\": {\"__start__\": {\"...  \n",
       "7   {\"source\": \"loop\", \"writes\": null, \"step\": 6, ...  \n",
       "8   {\"source\": \"loop\", \"writes\": {\"conversation\": ...  \n",
       "9   {\"source\": \"input\", \"writes\": {\"__start__\": {\"...  \n",
       "10  {\"source\": \"loop\", \"writes\": null, \"step\": 9, ...  \n",
       "11  {\"source\": \"loop\", \"writes\": {\"conversation\": ...  \n",
       "12  {\"source\": \"loop\", \"writes\": {\"summarize_conve...  "
      ],
      "text/html": [
       "<div>\n",
       "<style scoped>\n",
       "    .dataframe tbody tr th:only-of-type {\n",
       "        vertical-align: middle;\n",
       "    }\n",
       "\n",
       "    .dataframe tbody tr th {\n",
       "        vertical-align: top;\n",
       "    }\n",
       "\n",
       "    .dataframe thead th {\n",
       "        text-align: right;\n",
       "    }\n",
       "</style>\n",
       "<table border=\"1\" class=\"dataframe\">\n",
       "  <thead>\n",
       "    <tr style=\"text-align: right;\">\n",
       "      <th></th>\n",
       "      <th>thread_id</th>\n",
       "      <th>checkpoint_ns</th>\n",
       "      <th>checkpoint_id</th>\n",
       "      <th>parent_checkpoint_id</th>\n",
       "      <th>type</th>\n",
       "      <th>checkpoint</th>\n",
       "      <th>metadata</th>\n",
       "    </tr>\n",
       "  </thead>\n",
       "  <tbody>\n",
       "    <tr>\n",
       "      <th>0</th>\n",
       "      <td>1</td>\n",
       "      <td>NaN</td>\n",
       "      <td>1f04aa53-28d9-6604-bfff-8c5395f80bed</td>\n",
       "      <td>NaN</td>\n",
       "      <td>msgpack</td>\n",
       "      <td>0x87A17603A27473D920323032352D30362D3136543131...</td>\n",
       "      <td>{\"source\": \"input\", \"writes\": {\"__start__\": {\"...</td>\n",
       "    </tr>\n",
       "    <tr>\n",
       "      <th>1</th>\n",
       "      <td>1</td>\n",
       "      <td>NaN</td>\n",
       "      <td>1f04aa53-28db-6c10-8000-95cc2c884983</td>\n",
       "      <td>1f04aa53-28d9-6604-bfff-8c5395f80bed</td>\n",
       "      <td>msgpack</td>\n",
       "      <td>0x87A17603A27473D920323032352D30362D3136543131...</td>\n",
       "      <td>{\"source\": \"loop\", \"writes\": null, \"step\": 0, ...</td>\n",
       "    </tr>\n",
       "    <tr>\n",
       "      <th>2</th>\n",
       "      <td>1</td>\n",
       "      <td>NaN</td>\n",
       "      <td>1f04aa53-50b9-6fde-8001-746bf1772055</td>\n",
       "      <td>1f04aa53-28db-6c10-8000-95cc2c884983</td>\n",
       "      <td>msgpack</td>\n",
       "      <td>0x87A17603A27473D920323032352D30362D3136543131...</td>\n",
       "      <td>{\"source\": \"loop\", \"writes\": {\"conversation\": ...</td>\n",
       "    </tr>\n",
       "    <tr>\n",
       "      <th>3</th>\n",
       "      <td>1</td>\n",
       "      <td>NaN</td>\n",
       "      <td>1f04aa53-5103-6bca-8002-8ee4d05df4ea</td>\n",
       "      <td>1f04aa53-50b9-6fde-8001-746bf1772055</td>\n",
       "      <td>msgpack</td>\n",
       "      <td>0x87A17603A27473D920323032352D30362D3136543131...</td>\n",
       "      <td>{\"source\": \"input\", \"writes\": {\"__start__\": {\"...</td>\n",
       "    </tr>\n",
       "    <tr>\n",
       "      <th>4</th>\n",
       "      <td>1</td>\n",
       "      <td>NaN</td>\n",
       "      <td>1f04aa53-5106-6618-8003-9b41dc6297ad</td>\n",
       "      <td>1f04aa53-5103-6bca-8002-8ee4d05df4ea</td>\n",
       "      <td>msgpack</td>\n",
       "      <td>0x87A17603A27473D920323032352D30362D3136543131...</td>\n",
       "      <td>{\"source\": \"loop\", \"writes\": null, \"step\": 3, ...</td>\n",
       "    </tr>\n",
       "    <tr>\n",
       "      <th>5</th>\n",
       "      <td>1</td>\n",
       "      <td>NaN</td>\n",
       "      <td>1f04aa53-5704-6b5a-8004-19a51b22f198</td>\n",
       "      <td>1f04aa53-5106-6618-8003-9b41dc6297ad</td>\n",
       "      <td>msgpack</td>\n",
       "      <td>0x87A17603A27473D920323032352D30362D3136543131...</td>\n",
       "      <td>{\"source\": \"loop\", \"writes\": {\"conversation\": ...</td>\n",
       "    </tr>\n",
       "    <tr>\n",
       "      <th>6</th>\n",
       "      <td>1</td>\n",
       "      <td>NaN</td>\n",
       "      <td>1f04aa53-5744-6ae8-8005-7588859f44f9</td>\n",
       "      <td>1f04aa53-5704-6b5a-8004-19a51b22f198</td>\n",
       "      <td>msgpack</td>\n",
       "      <td>0x87A17603A27473D920323032352D30362D3136543131...</td>\n",
       "      <td>{\"source\": \"input\", \"writes\": {\"__start__\": {\"...</td>\n",
       "    </tr>\n",
       "    <tr>\n",
       "      <th>7</th>\n",
       "      <td>1</td>\n",
       "      <td>NaN</td>\n",
       "      <td>1f04aa53-5748-61ca-8006-a7c3662eb65b</td>\n",
       "      <td>1f04aa53-5744-6ae8-8005-7588859f44f9</td>\n",
       "      <td>msgpack</td>\n",
       "      <td>0x87A17603A27473D920323032352D30362D3136543131...</td>\n",
       "      <td>{\"source\": \"loop\", \"writes\": null, \"step\": 6, ...</td>\n",
       "    </tr>\n",
       "    <tr>\n",
       "      <th>8</th>\n",
       "      <td>1</td>\n",
       "      <td>NaN</td>\n",
       "      <td>1f04aa53-658e-6ae0-8007-47dba700f22f</td>\n",
       "      <td>1f04aa53-5748-61ca-8006-a7c3662eb65b</td>\n",
       "      <td>msgpack</td>\n",
       "      <td>0x87A17603A27473D920323032352D30362D3136543131...</td>\n",
       "      <td>{\"source\": \"loop\", \"writes\": {\"conversation\": ...</td>\n",
       "    </tr>\n",
       "    <tr>\n",
       "      <th>9</th>\n",
       "      <td>1</td>\n",
       "      <td>NaN</td>\n",
       "      <td>1f04aa53-6602-636e-8008-c5327f74660c</td>\n",
       "      <td>1f04aa53-658e-6ae0-8007-47dba700f22f</td>\n",
       "      <td>msgpack</td>\n",
       "      <td>0x87A17603A27473D920323032352D30362D3136543131...</td>\n",
       "      <td>{\"source\": \"input\", \"writes\": {\"__start__\": {\"...</td>\n",
       "    </tr>\n",
       "    <tr>\n",
       "      <th>10</th>\n",
       "      <td>1</td>\n",
       "      <td>NaN</td>\n",
       "      <td>1f04aa53-6604-69b6-8009-48d96a4c0a4a</td>\n",
       "      <td>1f04aa53-6602-636e-8008-c5327f74660c</td>\n",
       "      <td>msgpack</td>\n",
       "      <td>0x87A17603A27473D920323032352D30362D3136543131...</td>\n",
       "      <td>{\"source\": \"loop\", \"writes\": null, \"step\": 9, ...</td>\n",
       "    </tr>\n",
       "    <tr>\n",
       "      <th>11</th>\n",
       "      <td>1</td>\n",
       "      <td>NaN</td>\n",
       "      <td>1f04aa53-9388-628e-800a-4927c89e4b33</td>\n",
       "      <td>1f04aa53-6604-69b6-8009-48d96a4c0a4a</td>\n",
       "      <td>msgpack</td>\n",
       "      <td>0x87A17603A27473D920323032352D30362D3136543131...</td>\n",
       "      <td>{\"source\": \"loop\", \"writes\": {\"conversation\": ...</td>\n",
       "    </tr>\n",
       "    <tr>\n",
       "      <th>12</th>\n",
       "      <td>1</td>\n",
       "      <td>NaN</td>\n",
       "      <td>1f04aa53-bd57-634e-800b-c41476535214</td>\n",
       "      <td>1f04aa53-9388-628e-800a-4927c89e4b33</td>\n",
       "      <td>msgpack</td>\n",
       "      <td>0x87A17603A27473D920323032352D30362D3136543131...</td>\n",
       "      <td>{\"source\": \"loop\", \"writes\": {\"summarize_conve...</td>\n",
       "    </tr>\n",
       "  </tbody>\n",
       "</table>\n",
       "</div>"
      ]
     },
     "execution_count": 1,
     "metadata": {},
     "output_type": "execute_result"
    }
   ],
   "execution_count": 1
  },
  {
   "cell_type": "code",
   "id": "initial_id",
   "metadata": {
    "collapsed": true,
    "ExecuteTime": {
     "end_time": "2025-06-16T22:10:38.423993Z",
     "start_time": "2025-06-16T22:10:38.422174Z"
    }
   },
   "source": [
    ""
   ],
   "outputs": [],
   "execution_count": null
  },
  {
   "metadata": {
    "collapsed": true,
    "ExecuteTime": {
     "end_time": "2025-06-16T18:34:37.250128Z",
     "start_time": "2025-06-16T18:34:36.486049Z"
    }
   },
   "cell_type": "code",
   "source": [
    "import os\n",
    "from typing import *\n",
    "\n",
    "from dotenv import load_dotenv\n",
    "load_dotenv()\n",
    "from IPython.display import Image, display\n",
    "import sqlite3\n",
    "\n",
    "\n",
    "from langchain_ollama import ChatOllama\n",
    "from langchain_together import ChatTogether\n",
    "from langchain_huggingface import HuggingFaceEndpoint,ChatHuggingFace\n",
    "from langchain_core.messages import AnyMessage, HumanMessage, AIMessage, SystemMessage, ToolMessage, RemoveMessage\n",
    "from langgraph.graph import StateGraph, START, END, MessagesState\n",
    "from langgraph.graph.message import add_messages\n",
    "from langgraph.prebuilt import tools_condition, ToolNode\n",
    "from langgraph.checkpoint.memory import MemorySaver"
   ],
   "id": "8c8c8af73eb6372b",
   "outputs": [],
   "execution_count": 2
  },
  {
   "metadata": {
    "ExecuteTime": {
     "end_time": "2025-06-16T18:34:39.092400Z",
     "start_time": "2025-06-16T18:34:39.089862Z"
    }
   },
   "cell_type": "code",
   "source": [
    "# ------------------------------------------------------ #\n",
    "# GLOBALS\n",
    "# ------------------------------------------------------ #\n",
    "TOGETHER_API_KEY = os.getenv(\"TOGETHER_API_KEY\")"
   ],
   "id": "c23962778711003",
   "outputs": [],
   "execution_count": 3
  },
  {
   "metadata": {
    "ExecuteTime": {
     "end_time": "2025-06-16T18:34:39.345074Z",
     "start_time": "2025-06-16T18:34:39.308021Z"
    }
   },
   "cell_type": "code",
   "source": [
    "# ------------------------------------------------------ #\n",
    "# MODELS & TOOLS\n",
    "# ------------------------------------------------------ #\n",
    "# chat_llm = ChatTogether(model=\"meta-llama/Llama-3.3-70B-Instruct-Turbo-Free\", api_key=TOGETHER_API_KEY)\n",
    "chat_llm = ChatOllama(model='llama3.2:latest')"
   ],
   "id": "17e112061ff94543",
   "outputs": [],
   "execution_count": 4
  },
  {
   "metadata": {
    "ExecuteTime": {
     "end_time": "2025-06-16T18:34:43.660059Z",
     "start_time": "2025-06-16T18:34:39.835635Z"
    }
   },
   "cell_type": "code",
   "source": "chat_llm.invoke('hi').content",
   "id": "44e577820b76e100",
   "outputs": [
    {
     "data": {
      "text/plain": [
       "'Hello! How can I assist you today?'"
      ]
     },
     "execution_count": 5,
     "metadata": {},
     "output_type": "execute_result"
    }
   ],
   "execution_count": 5
  },
  {
   "metadata": {
    "ExecuteTime": {
     "end_time": "2025-06-16T18:34:44.542428Z",
     "start_time": "2025-06-16T18:34:44.539135Z"
    }
   },
   "cell_type": "code",
   "source": [
    "# ------------------------------------------------------ #\n",
    "# STATE\n",
    "# ------------------------------------------------------ #\n",
    "class State(MessagesState):\n",
    "    summary: str"
   ],
   "id": "9814e4e79eba3beb",
   "outputs": [],
   "execution_count": 6
  },
  {
   "metadata": {
    "ExecuteTime": {
     "end_time": "2025-06-16T18:34:45.352612Z",
     "start_time": "2025-06-16T18:34:45.345366Z"
    }
   },
   "cell_type": "code",
   "source": [
    "# ------------------------------------------------------ #\n",
    "# NODES\n",
    "# ------------------------------------------------------ #\n",
    "def call_model(state: State):\n",
    "    # summary = state['summary']\n",
    "    summary = state.get('summary', '')\n",
    "    if summary:\n",
    "        # the summary exists\n",
    "        system_message = f'Summary of conversation earlier: {summary}'\n",
    "        messages = [SystemMessage(content=system_message)] + state['messages']\n",
    "    else:\n",
    "        # no summary\n",
    "        messages =  state['messages']\n",
    "    response = chat_llm.invoke(messages)\n",
    "    return {'messages': response}\n",
    "\n",
    "\n",
    "def summarize_conversation(state: State):\n",
    "    # summary = state['summary']\n",
    "    summary = state.get('summary', '')\n",
    "    if summary:\n",
    "        # a summary already exists\n",
    "        summary_message = (\n",
    "            f\"This is summary of the conversation to date: {summary}\\n\\n\"\n",
    "            f\"Extend the summary by taking into the new messages above:\"\n",
    "        )\n",
    "    else:\n",
    "        # no summary\n",
    "        summary_message = \"Create a summary of the conversation above:\"\n",
    "    messages = state['messages'] + [HumanMessage(content=summary_message)]\n",
    "    response = chat_llm.invoke(messages)\n",
    "\n",
    "    delete_messages = [RemoveMessage(id=m.id) for m in state['messages'][:-2]]\n",
    "    return {'summary': response.content, 'messages': delete_messages}"
   ],
   "id": "ed3b60ffdfbd1b82",
   "outputs": [],
   "execution_count": 7
  },
  {
   "metadata": {
    "ExecuteTime": {
     "end_time": "2025-06-16T18:34:47.699561Z",
     "start_time": "2025-06-16T18:34:47.694193Z"
    }
   },
   "cell_type": "code",
   "source": [
    "# ------------------------------------------------------ #\n",
    "# CONDITIONAL EDGES\n",
    "# ------------------------------------------------------ #\n",
    "def should_continue(state: State) -> Literal[\"summarize_conversation\", \"__end__\"]:\n",
    "    messages = state['messages']\n",
    "    if len(messages) > 6:\n",
    "        return 'summarize_conversation'\n",
    "    return END"
   ],
   "id": "152d0a71dde7a57a",
   "outputs": [],
   "execution_count": 8
  },
  {
   "metadata": {
    "ExecuteTime": {
     "end_time": "2025-06-16T20:22:45.992760Z",
     "start_time": "2025-06-16T20:22:45.990141Z"
    }
   },
   "cell_type": "code",
   "source": [
    "# ------------------------------------------------------ #\n",
    "# MEMORY\n",
    "# ------------------------------------------------------ #\n",
    "memory = MemorySaver()\n",
    "\n",
    "\n",
    "import sqlite3\n",
    "from langgraph.checkpoint.sqlite import SqliteSaver\n",
    "\n",
    "# In memory\n",
    "# conn = sqlite3.connect(\":memory:\", check_same_thread = False)\n",
    "\n",
    "# outer source\n",
    "# db_path = \"chat.db\"\n",
    "# conn = sqlite3.connect(db_path, check_same_thread=False)\n",
    "# memory = SqliteSaver(conn)"
   ],
   "id": "f4d107924eba822e",
   "outputs": [],
   "execution_count": 39
  },
  {
   "metadata": {
    "ExecuteTime": {
     "end_time": "2025-06-16T18:34:53.343529Z",
     "start_time": "2025-06-16T18:34:53.341349Z"
    }
   },
   "cell_type": "code",
   "source": [
    "# ------------------------------------------------------ #\n",
    "# WORKFLOWS\n",
    "# ------------------------------------------------------ #\n",
    "def workflow_default():\n",
    "    # define workflow\n",
    "    i_workflow = StateGraph(State)\n",
    "    # nodes\n",
    "    i_workflow.add_node('conversation', call_model)\n",
    "    i_workflow.add_node('summarize_conversation', summarize_conversation)\n",
    "    # edges\n",
    "    i_workflow.add_edge(START, 'conversation')\n",
    "    # i_workflow.add_edge('conversation', 'summarize_conversation')\n",
    "    i_workflow.add_conditional_edges('conversation', should_continue)\n",
    "    i_workflow.add_edge('summarize_conversation', END)\n",
    "    return i_workflow"
   ],
   "id": "d9df4beeb4b0b442",
   "outputs": [],
   "execution_count": 10
  },
  {
   "metadata": {
    "ExecuteTime": {
     "end_time": "2025-06-16T20:22:50.536087Z",
     "start_time": "2025-06-16T20:22:50.357488Z"
    }
   },
   "cell_type": "code",
   "source": [
    "# ------------------------------------------------------ #\n",
    "# COMPILE GRAPH\n",
    "# ------------------------------------------------------ #\n",
    "workflow = workflow_default()\n",
    "graph = workflow.compile(checkpointer=memory)\n",
    "# graph = workflow.compile()\n",
    "# print(graph.get_graph().draw_ascii())\n",
    "display(Image(graph.get_graph().draw_mermaid_png()))"
   ],
   "id": "14688ac9ba41adc9",
   "outputs": [
    {
     "data": {
      "image/png": "[encoded data removed]",
      "text/plain": [
       "<IPython.core.display.Image object>"
      ]
     },
     "metadata": {},
     "output_type": "display_data"
    }
   ],
   "execution_count": 40
  },
  {
   "metadata": {
    "ExecuteTime": {
     "end_time": "2025-06-16T20:12:45.682017Z",
     "start_time": "2025-06-16T20:12:34.822406Z"
    }
   },
   "cell_type": "code",
   "source": [
    "config = {\"configurable\": {\"thread_id\": \"1\"}}\n",
    "# Start conversation\n",
    "chunks = []\n",
    "for chunk in graph.stream({\"messages\": [HumanMessage(content=\"hi! I'm Lance\")]}, config, stream_mode=\"updates\"):\n",
    "    chunks.append(chunk)\n",
    "    # print(chunk)\n",
    "    chunk['conversation'][\"messages\"].pretty_print()\n",
    "chunks"
   ],
   "id": "c2fa3b40dad6f911",
   "outputs": [
    {
     "data": {
      "text/plain": [
       "[{'conversation': {'messages': AIMessage(content='I think we\\'ve established that you\\'d like to introduce yourself every time. That\\'s okay!\\n\\nInstead of introducing ourselves again, let\\'s try something new. Since you said \"hi!\" and introduced yourself as \"Lance\", I\\'m going to take a wild guess: how about we play a game or have some fun? What do you say?\\n\\n(By the way, if you want to actually talk about something or ask me a question, feel free to do so anytime!)', additional_kwargs={}, response_metadata={'model': 'llama3.2:latest', 'created_at': '2025-06-16T20:12:37.758678Z', 'done': True, 'done_reason': 'stop', 'total_duration': 2928909416, 'load_duration': 28898750, 'prompt_eval_count': 614, 'prompt_eval_duration': 179602791, 'eval_count': 96, 'eval_duration': 2717518417, 'model_name': 'llama3.2:latest'}, id='run--c9dccb4d-5e4f-4edf-9358-077deb7bab79-0', usage_metadata={'input_tokens': 614, 'output_tokens': 96, 'total_tokens': 710})}},\n",
       " {'summarize_conversation': {'summary': \"It looks like we've been stuck in a loop indeed!\\n\\nI must say, I'm impressed by your persistence and humor in summarizing our conversation. It's not every day that someone points out the repetition of my introductions.\\n\\nTo answer your question, let's break out of this loop for good! I'd love to play a game or have a fun activity with you. Here are some options:\\n\\n1. Trivia: We could play a trivia game on a topic of your choice (e.g., sports, history, pop culture).\\n2. Word Chain: We take turns saying a word that starts with the last letter of the previous word.\\n3. Storytelling: I'll start telling a story, and then you can add to it, and so on.\\n4. 20 Questions: You think of an object, and I try to guess what it is by asking yes or no questions.\\n\\nWhich one sounds like fun to you?\\n\\n(And, just to break the loop for good, I promise not to introduce myself again.)\",\n",
       "   'messages': [RemoveMessage(content='', additional_kwargs={}, response_metadata={}, id='1e8fffca-a90f-4075-b4e3-7f67ed119630'),\n",
       "    RemoveMessage(content='', additional_kwargs={}, response_metadata={}, id='run--4c2ea544-1aba-4f46-9c3c-39ee7587cce3-0'),\n",
       "    RemoveMessage(content='', additional_kwargs={}, response_metadata={}, id='335f9e2c-756d-434a-a099-a2d38b426e4b'),\n",
       "    RemoveMessage(content='', additional_kwargs={}, response_metadata={}, id='run--10a6ed37-6d69-4b4e-b705-20477ab9ec4e-0'),\n",
       "    RemoveMessage(content='', additional_kwargs={}, response_metadata={}, id='5ddb022d-215c-43a0-ab12-b0f0a9e19e2f'),\n",
       "    RemoveMessage(content='', additional_kwargs={}, response_metadata={}, id='run--7ab6f381-f3a8-4a66-8133-efaa5856a6c8-0')]}}]"
      ]
     },
     "execution_count": 26,
     "metadata": {},
     "output_type": "execute_result"
    }
   ],
   "execution_count": 26
  },
  {
   "metadata": {
    "ExecuteTime": {
     "end_time": "2025-06-16T20:13:22.003152Z",
     "start_time": "2025-06-16T20:13:19.737797Z"
    }
   },
   "cell_type": "code",
   "source": [
    "config = {\"configurable\": {\"thread_id\": \"2\"}}\n",
    "# Start conversation\n",
    "input_message = HumanMessage(content=\"hi! I'm Lance\")\n",
    "events = []\n",
    "for event in graph.stream({\"messages\": [input_message]}, config, stream_mode=\"values\"):\n",
    "    events.append(event)\n",
    "    # print(chunk)\n",
    "    print('vvv' * 25)\n",
    "    for m in event['messages']:\n",
    "        m.pretty_print()\n",
    "    print('---' * 25)\n",
    "events"
   ],
   "id": "88a2e7376ab8c048",
   "outputs": [
    {
     "name": "stdout",
     "output_type": "stream",
     "text": [
      "vvvvvvvvvvvvvvvvvvvvvvvvvvvvvvvvvvvvvvvvvvvvvvvvvvvvvvvvvvvvvvvvvvvvvvvvvvv\n",
      "================================\u001B[1m Human Message \u001B[0m=================================\n",
      "\n",
      "hi! I'm Lance\n",
      "==================================\u001B[1m Ai Message \u001B[0m==================================\n",
      "\n",
      "I think I've got it now. Hi, Lance! It's clear you're having a bit of fun with our greeting exchange. Don't worry, I won't take offense. How about we mix things up and talk about something completely different? What do you say?\n",
      "================================\u001B[1m Human Message \u001B[0m=================================\n",
      "\n",
      "hi! I'm Lance\n",
      "---------------------------------------------------------------------------\n",
      "vvvvvvvvvvvvvvvvvvvvvvvvvvvvvvvvvvvvvvvvvvvvvvvvvvvvvvvvvvvvvvvvvvvvvvvvvvv\n",
      "================================\u001B[1m Human Message \u001B[0m=================================\n",
      "\n",
      "hi! I'm Lance\n",
      "==================================\u001B[1m Ai Message \u001B[0m==================================\n",
      "\n",
      "I think I've got it now. Hi, Lance! It's clear you're having a bit of fun with our greeting exchange. Don't worry, I won't take offense. How about we mix things up and talk about something completely different? What do you say?\n",
      "================================\u001B[1m Human Message \u001B[0m=================================\n",
      "\n",
      "hi! I'm Lance\n",
      "==================================\u001B[1m Ai Message \u001B[0m==================================\n",
      "\n",
      "I see what you did there again! You're right, I should be ready for a different response now that the initial \"Hi\" is out of the way. So... Lance: would you like to explore some new conversation topics or try to stump me with more clever greetings?\n",
      "---------------------------------------------------------------------------\n"
     ]
    },
    {
     "data": {
      "text/plain": [
       "[{'messages': [HumanMessage(content=\"hi! I'm Lance\", additional_kwargs={}, response_metadata={}, id='42a474b3-434c-40da-a2cd-1546128dfc8d'),\n",
       "   AIMessage(content=\"I think I've got it now. Hi, Lance! It's clear you're having a bit of fun with our greeting exchange. Don't worry, I won't take offense. How about we mix things up and talk about something completely different? What do you say?\", additional_kwargs={}, response_metadata={'model': 'llama3.2:latest', 'created_at': '2025-06-16T20:08:43.62104Z', 'done': True, 'done_reason': 'stop', 'total_duration': 1761841208, 'load_duration': 29015083, 'prompt_eval_count': 179, 'prompt_eval_duration': 165336291, 'eval_count': 56, 'eval_duration': 1564702584, 'model_name': 'llama3.2:latest'}, id='run--2565d146-29f9-4f94-b66a-a8dc7198cd33-0', usage_metadata={'input_tokens': 179, 'output_tokens': 56, 'total_tokens': 235}),\n",
       "   HumanMessage(content=\"hi! I'm Lance\", additional_kwargs={}, response_metadata={}, id='77fb5276-d8a4-4ba6-874f-b9932a9bb0c8')],\n",
       "  'summary': 'Here\\'s a summary of our conversation:\\n\\n* You introduced yourself as Lance.\\n* We exchanged \"hi!\" messages back and forth, with me responding each time to your greeting.\\n* After several iterations of the same exchange, I started to pick up on the pattern and began to engage in more creative responses.\\n\\nThat\\'s the basic gist of our conversation so far!'},\n",
       " {'messages': [HumanMessage(content=\"hi! I'm Lance\", additional_kwargs={}, response_metadata={}, id='42a474b3-434c-40da-a2cd-1546128dfc8d'),\n",
       "   AIMessage(content=\"I think I've got it now. Hi, Lance! It's clear you're having a bit of fun with our greeting exchange. Don't worry, I won't take offense. How about we mix things up and talk about something completely different? What do you say?\", additional_kwargs={}, response_metadata={'model': 'llama3.2:latest', 'created_at': '2025-06-16T20:08:43.62104Z', 'done': True, 'done_reason': 'stop', 'total_duration': 1761841208, 'load_duration': 29015083, 'prompt_eval_count': 179, 'prompt_eval_duration': 165336291, 'eval_count': 56, 'eval_duration': 1564702584, 'model_name': 'llama3.2:latest'}, id='run--2565d146-29f9-4f94-b66a-a8dc7198cd33-0', usage_metadata={'input_tokens': 179, 'output_tokens': 56, 'total_tokens': 235}),\n",
       "   HumanMessage(content=\"hi! I'm Lance\", additional_kwargs={}, response_metadata={}, id='77fb5276-d8a4-4ba6-874f-b9932a9bb0c8'),\n",
       "   AIMessage(content='I see what you did there again! You\\'re right, I should be ready for a different response now that the initial \"Hi\" is out of the way. So... Lance: would you like to explore some new conversation topics or try to stump me with more clever greetings?', additional_kwargs={}, response_metadata={'model': 'llama3.2:latest', 'created_at': '2025-06-16T20:13:21.996704Z', 'done': True, 'done_reason': 'stop', 'total_duration': 2251478583, 'load_duration': 26060917, 'prompt_eval_count': 177, 'prompt_eval_duration': 685669125, 'eval_count': 57, 'eval_duration': 1539052792, 'model_name': 'llama3.2:latest'}, id='run--9441b629-dfe4-44e1-9f09-52829ee2f6e1-0', usage_metadata={'input_tokens': 177, 'output_tokens': 57, 'total_tokens': 234})],\n",
       "  'summary': 'Here\\'s a summary of our conversation:\\n\\n* You introduced yourself as Lance.\\n* We exchanged \"hi!\" messages back and forth, with me responding each time to your greeting.\\n* After several iterations of the same exchange, I started to pick up on the pattern and began to engage in more creative responses.\\n\\nThat\\'s the basic gist of our conversation so far!'}]"
      ]
     },
     "execution_count": 27,
     "metadata": {},
     "output_type": "execute_result"
    }
   ],
   "execution_count": 27
  },
  {
   "metadata": {
    "ExecuteTime": {
     "end_time": "2025-06-16T20:33:14.418291Z",
     "start_time": "2025-06-16T20:32:52.979095Z"
    }
   },
   "cell_type": "code",
   "source": [
    "config = {'configurable': {'thread_id': '3'}}\n",
    "input_message = HumanMessage(content='Tell me about the current conflicts that Israel is involved in.')\n",
    "async for event in graph.astream_events({'messages': [input_message]}, config, version='v2'):\n",
    "    # print('vvv')\n",
    "    # print(f\"Node: {event['metadata'].get('langgraph_node', '')}\\n\"\n",
    "    #       f\"Type: {event['event']}\\n\"\n",
    "    #       f\"Name: {event['name']}\")\n",
    "    # print('^^^')\n",
    "    if event['event'] == 'on_chat_model_stream':\n",
    "        data = event['data']\n",
    "        print(data['chunk'].content, end='')\n"
   ],
   "id": "d279e7354ad5cc5a",
   "outputs": [
    {
     "name": "stdout",
     "output_type": "stream",
     "text": [
      "I'll provide an overview of some of the current conflicts that Israel is involved in:\n",
      "\n",
      "**The Israeli-Palestinian Conflict**: This conflict has been ongoing for decades, with roots dating back to the early 20th century. It involves disputes over land, identity, and self-determination between Israelis and Palestinians.\n",
      "\n",
      "* **Gaza Strip**: The Gaza Strip has been under Israeli occupation since 1967. The blockade, imposed in 2007, has led to widespread poverty, unemployment, and humanitarian crises.\n",
      "* **West Bank**: Israel has occupied the West Bank since 1967, with settlements and military checkpoints creating significant obstacles to Palestinian movement and access to resources.\n",
      "\n",
      "**Regional Conflicts**:\n",
      "\n",
      "* **Hezbollah-Israel Conflict**: A proxy conflict between Israel and Hezbollah (a Lebanese Shia Islamist group) has been ongoing since the mid-2000s. The conflict is often characterized by rocket attacks from Lebanon into southern Israel.\n",
      "* **Syrian Civil War**: During the Syrian civil war, Israel was attacked by Iranian forces and their allies in Syria. In response, Israel launched airstrikes against targets in Syria, particularly those linked to Hezbollah and Iranian military operations.\n",
      "* **Golan Heights Conflict**: Since 2011, Israel has occupied the Golan Heights, a disputed territory that is claimed by both Israel and Syria. The conflict has led to tensions between Israel and Syria.\n",
      "\n",
      "**Other Conflicts**:\n",
      "\n",
      "* **Iran-Israel Conflict**: Tensions between Iran and Israel have escalated in recent years, with Iranian missiles and proxy forces threatening Israeli interests.\n",
      "* **Egyptian Gaza Border**: Since 2013, there have been clashes between Palestinian protesters and Egyptian security forces along the Gaza border, sparking concerns about regional instability.\n",
      "\n",
      "**Key Issues**:\n",
      "\n",
      "* **Settlements**: The expansion of Israeli settlements in the West Bank is a major point of contention with the international community.\n",
      "* **Jerusalem**: The status of Jerusalem remains a contentious issue, with Israel claiming it as its capital and Palestinians demanding East Jerusalem as the capital of their future state.\n",
      "* **Security Concerns**: Both Israelis and Palestinians have legitimate security concerns, including terrorism, rocket attacks, and cross-border violence.\n",
      "\n",
      "**International Efforts to Resolve Conflicts**:\n",
      "\n",
      "* **Two-State Solution**: The international community has long advocated for a two-state solution, which would involve the establishment of an independent Palestinian state alongside Israel.\n",
      "* **Peace Process**: The Israeli government has expressed interest in resuming peace talks with the Palestinians, but progress has been slow due to disagreements over issues like settlements and Jerusalem.\n",
      "\n",
      "**Challenges Ahead**:\n",
      "\n",
      "* **Escalating Tensions**: Regional tensions have increased in recent years, leading to concerns about further conflict.\n",
      "* **Lack of Trust**: The lack of trust between Israelis and Palestinians, as well as between Israel and its Arab neighbors, has hindered the peace process.\n",
      "* **Global Influence**: External actors, including Iran and other regional powers, can also exacerbate tensions and complicate efforts to resolve conflicts.\n",
      "\n",
      "These are just some of the key conflicts that Israel is involved in. Is there anything specific you'd like me to elaborate on?"
     ]
    }
   ],
   "execution_count": 49
  },
  {
   "metadata": {},
   "cell_type": "code",
   "outputs": [],
   "execution_count": null,
   "source": "",
   "id": "d924693af7d8469d"
  }
 ],
 "metadata": {
  "kernelspec": {
   "display_name": "Python 3",
   "language": "python",
   "name": "python3"
  },
  "language_info": {
   "codemirror_mode": {
    "name": "ipython",
    "version": 2
   },
   "file_extension": ".py",
   "mimetype": "text/x-python",
   "name": "python",
   "nbconvert_exporter": "python",
   "pygments_lexer": "ipython2",
   "version": "2.7.6"
  }
 },
 "nbformat": 4,
 "nbformat_minor": 5
}
