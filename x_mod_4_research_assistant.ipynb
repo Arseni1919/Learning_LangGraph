{
 "cells": [
  {
   "cell_type": "code",
   "id": "initial_id",
   "metadata": {
    "collapsed": true,
    "ExecuteTime": {
     "end_time": "2025-06-20T10:15:09.779643Z",
     "start_time": "2025-06-20T10:15:09.774262Z"
    }
   },
   "source": [
    "import os\n",
    "from typing import *\n",
    "import operator\n",
    "from urllib.request import build_opener\n",
    "\n",
    "from docutils.nodes import system_message\n",
    "from dotenv import load_dotenv\n",
    "from numba.np.ufunc.parallel import build_gufunc_kernel\n",
    "from torch.jit.frontend import build_def\n",
    "\n",
    "load_dotenv()\n",
    "from IPython.display import Image, display, Markdown\n",
    "import sqlite3\n",
    "from pydantic import BaseModel, Field\n",
    "\n",
    "\n",
    "from langchain_ollama import ChatOllama\n",
    "from langchain_together import ChatTogether\n",
    "from langchain_huggingface import HuggingFaceEndpoint,ChatHuggingFace\n",
    "from langchain_core.messages import AnyMessage, HumanMessage, AIMessage, SystemMessage, ToolMessage, RemoveMessage, get_buffer_string\n",
    "# from langchain_community.tools import TavilySearchResults\n",
    "from langchain_tavily import TavilySearch\n",
    "from langchain_community.document_loaders import WikipediaLoader\n",
    "from langgraph.graph import StateGraph, START, END, MessagesState\n",
    "from langgraph.graph.message import add_messages\n",
    "from langgraph.prebuilt import tools_condition, ToolNode\n",
    "from langgraph.checkpoint.memory import MemorySaver\n",
    "from langgraph.errors import NodeInterrupt\n",
    "from langgraph.types import interrupt, Command\n",
    "from langgraph.constants import Send"
   ],
   "outputs": [],
   "execution_count": 331
  },
  {
   "metadata": {
    "ExecuteTime": {
     "end_time": "2025-06-20T10:15:09.796303Z",
     "start_time": "2025-06-20T10:15:09.791381Z"
    }
   },
   "cell_type": "code",
   "source": [
    "# ------------------------------------------------------ #\n",
    "# GLOBALS\n",
    "# ------------------------------------------------------ #\n",
    "TOGETHER_API_KEY = os.getenv(\"TOGETHER_API_KEY\")\n",
    "\n",
    "max_analysts = 3\n",
    "# topic = \"The benefits of adopting LangGraph as an agent framework\"\n",
    "# topic = \"The benefits of using Multi-Agent Pathfinding framework\"\n",
    "topic = \"The situation of the Tel Aviv stock market this week\"\n",
    "thread = {'configurable': {'thread_id': '1'}}\n",
    "\n",
    "\n",
    "analyst_instructions = \"\"\"You are tasked with creating a set of AI analyst personas. Follow these instructions carefully:\n",
    "\n",
    "1. First, review the research topic:\n",
    "{topic}\n",
    "\n",
    "2. Examine any editorial feedback that has been optionally provided to guide creation of the analysts:\n",
    "\n",
    "{human_analyst_feedback}\n",
    "\n",
    "3. Determine the most interesting themes based upon documents and / or feedback above.\n",
    "\n",
    "4. Pick the top {max_analysts} themes.\n",
    "\n",
    "5. Assign one analyst to each theme.\"\"\"\n",
    "\n",
    "\n",
    "question_instructions = \"\"\"You are an analyst tasked with interviewing an expert to learn about a specific topic.\n",
    "\n",
    "Your goal is boil down to interesting and specific insights related to your topic.\n",
    "\n",
    "1. Interesting: Insights that people will find surprising or non-obvious.\n",
    "\n",
    "2. Specific: Insights that avoid generalities and include specific examples from the expert.\n",
    "\n",
    "Here is your topic of focus and set of goals: {goals}\n",
    "\n",
    "Begin by introducing yourself using a name that fits your persona, and then ask your question.\n",
    "\n",
    "Continue to ask questions to drill down and refine your understanding of the topic.\n",
    "\n",
    "When you are satisfied with your understanding, complete the interview with: \"Thank you so much for your help!\"\n",
    "\n",
    "Remember to stay in character throughout your response, reflecting the persona and goals provided to you.\"\"\"\n",
    "\n",
    "\n",
    "search_instructions = f\"\"\"You will be given a conversation between an analyst and an expert.\n",
    "\n",
    "Your goal is to generate a well-structured query for use in retrieval and / or web-search related to the conversation.\n",
    "\n",
    "First, analyze the full conversation.\n",
    "\n",
    "Pay particular attention to the final question posed by the analyst.\n",
    "\n",
    "Convert this final question into a well-structured web search query\"\"\"\n",
    "\n",
    "\n",
    "answer_instructions = \"\"\"You are an expert being interviewed by an analyst.\n",
    "\n",
    "Here is analyst area of focus: {goals}.\n",
    "\n",
    "You goal is to answer a question posed by the interviewer.\n",
    "\n",
    "To answer question, use this context:\n",
    "\n",
    "{context}\n",
    "\n",
    "When answering questions, follow these guidelines:\n",
    "\n",
    "1. Use only the information provided in the context.\n",
    "\n",
    "2. Do not introduce external information or make assumptions beyond what is explicitly stated in the context.\n",
    "\n",
    "3. The context contain sources at the topic of each individual document.\n",
    "\n",
    "4. Include these sources your answer next to any relevant statements. For example, for source # 1 use [1].\n",
    "\n",
    "5. List your sources in order at the bottom of your answer. [1] Source 1, [2] Source 2, etc\n",
    "\n",
    "6. If the source is: <Document source=\"assistant/docs/llama3_1.pdf\" page=\"7\"/>' then just list:\n",
    "\n",
    "[1] assistant/docs/llama3_1.pdf, page 7\n",
    "\n",
    "And skip the addition of the brackets as well as the Document source preamble in your citation.\"\"\"\n",
    "\n",
    "\n",
    "section_writer_instructions = \"\"\"You are an expert technical writer.\n",
    "\n",
    "Your task is to create a short, easily digestible section of a report based on a set of source documents.\n",
    "\n",
    "1. Analyze the content of the source documents:\n",
    "- The name of each source document is at the start of the document, with the <Document tag.\n",
    "\n",
    "2. Create a report structure using markdown formatting:\n",
    "- Use ## for the section title\n",
    "- Use ### for sub-section headers\n",
    "\n",
    "3. Write the report following this structure:\n",
    "a. Title (## header)\n",
    "b. Summary (### header)\n",
    "c. Sources (### header)\n",
    "\n",
    "4. Make your title engaging based upon the focus area of the analyst:\n",
    "{focus}\n",
    "\n",
    "5. For the summary section:\n",
    "- Set up summary with general background / context related to the focus area of the analyst\n",
    "- Emphasize what is novel, interesting, or surprising about insights gathered from the interview\n",
    "- Create a numbered list of source documents, as you use them\n",
    "- Do not mention the names of interviewers or experts\n",
    "- Aim for approximately 400 words maximum\n",
    "- Use numbered sources in your report (e.g., [1], [2]) based on information from source documents\n",
    "\n",
    "6. In the Sources section:\n",
    "- Include all sources used in your report\n",
    "- Provide full links to relevant websites or specific document paths\n",
    "- Separate each source by a newline. Use two spaces at the end of each line to create a newline in Markdown.\n",
    "- It will look like:\n",
    "\n",
    "### Sources\n",
    "[1] Link or Document name\n",
    "[2] Link or Document name\n",
    "\n",
    "7. Be sure to combine sources. For example this is not correct:\n",
    "\n",
    "[3] https://ai.meta.com/blog/meta-llama-3-1/\n",
    "[4] https://ai.meta.com/blog/meta-llama-3-1/\n",
    "\n",
    "There should be no redundant sources. It should simply be:\n",
    "\n",
    "[3] https://ai.meta.com/blog/meta-llama-3-1/\n",
    "\n",
    "8. Final review:\n",
    "- Ensure the report follows the required structure\n",
    "- Include no preamble before the title of the report\n",
    "- Check that all guidelines have been followed\"\"\"\n",
    "\n",
    "\n",
    "report_writer_instructions = \"\"\"You are a technical writer creating a report on this overall topic:\n",
    "\n",
    "{topic}\n",
    "\n",
    "You have a team of analysts. Each analyst has done two things:\n",
    "\n",
    "1. They conducted an interview with an expert on a specific sub-topic.\n",
    "2. They write up their finding into a memo.\n",
    "\n",
    "Your task:\n",
    "\n",
    "1. You will be given a collection of memos from your analysts.\n",
    "2. Think carefully about the insights from each memo.\n",
    "3. Consolidate these into a crisp overall summary that ties together the central ideas from all of the memos.\n",
    "4. Summarize the central points in each memo into a cohesive single narrative.\n",
    "\n",
    "To format your report:\n",
    "\n",
    "1. Use markdown formatting.\n",
    "2. Include no pre-amble for the report.\n",
    "3. Use no sub-heading.\n",
    "4. Start your report with a single title header: ## Insights\n",
    "5. Do not mention any analyst names in your report.\n",
    "6. Preserve any citations in the memos, which will be annotated in brackets, for example [1] or [2].\n",
    "7. Create a final, consolidated list of sources and add to a Sources section with the `## Sources` header.\n",
    "8. List your sources in order and do not repeat.\n",
    "\n",
    "[1] Source 1\n",
    "[2] Source 2\n",
    "\n",
    "Here are the memos from your analysts to build your report from:\n",
    "\n",
    "{context}\"\"\"\n",
    "\n",
    "\n",
    "intro_conclusion_instructions = \"\"\"You are a technical writer finishing a report on {topic}\n",
    "\n",
    "You will be given all of the sections of the report.\n",
    "\n",
    "You job is to write a crisp and compelling introduction or conclusion section.\n",
    "\n",
    "The user will instruct you whether to write the introduction or conclusion.\n",
    "\n",
    "Include no pre-amble for either section.\n",
    "\n",
    "Target around 100 words, crisply previewing (for introduction) or recapping (for conclusion) all of the sections of the report.\n",
    "\n",
    "Use markdown formatting.\n",
    "\n",
    "For your introduction, create a compelling title and use the # header for the title.\n",
    "\n",
    "For your introduction, use ## Introduction as the section header.\n",
    "\n",
    "For your conclusion, use ## Conclusion as the section header.\n",
    "\n",
    "Here are the sections to reflect on for writing: {formatted_str_sections}\"\"\""
   ],
   "id": "1ba45873409590fd",
   "outputs": [],
   "execution_count": 332
  },
  {
   "metadata": {
    "ExecuteTime": {
     "end_time": "2025-06-20T10:15:09.831262Z",
     "start_time": "2025-06-20T10:15:09.805899Z"
    }
   },
   "cell_type": "code",
   "source": [
    "# ------------------------------------------------------ #\n",
    "# MODELS\n",
    "# ------------------------------------------------------ #\n",
    "# chat_llm = ChatTogether(model=\"meta-llama/Llama-3.3-70B-Instruct-Turbo-Free\", api_key=TOGETHER_API_KEY)\n",
    "chat_llm = ChatOllama(model='llama3.2:latest')"
   ],
   "id": "b78d1166d82f04f9",
   "outputs": [],
   "execution_count": 333
  },
  {
   "metadata": {
    "ExecuteTime": {
     "end_time": "2025-06-20T10:15:09.841422Z",
     "start_time": "2025-06-20T10:15:09.839485Z"
    }
   },
   "cell_type": "code",
   "source": [
    "# ------------------------------------------------------ #\n",
    "# TOOLS\n",
    "# ------------------------------------------------------ #\n",
    "# tavily_search = TavilySearchResults(max_results=3)\n",
    "tavily_search = TavilySearch(\n",
    "    max_results=3,\n",
    "    topic=\"general\",\n",
    "    # include_answer=False,\n",
    "    # include_raw_content=False,\n",
    "    # include_images=False,\n",
    "    # include_image_descriptions=False,\n",
    "    # search_depth=\"basic\",\n",
    "    # time_range=\"day\",\n",
    "    # include_domains=None,\n",
    "    # exclude_domains=None\n",
    ")"
   ],
   "id": "65eea279ed92ecc5",
   "outputs": [],
   "execution_count": 334
  },
  {
   "metadata": {
    "ExecuteTime": {
     "end_time": "2025-06-20T10:15:09.853890Z",
     "start_time": "2025-06-20T10:15:09.848897Z"
    }
   },
   "cell_type": "code",
   "source": [
    "# ------------------------------------------------------ #\n",
    "# STATES\n",
    "# ------------------------------------------------------ #\n",
    "# --------------------------- #\n",
    "# STATES - GENERATE ANALYSTS\n",
    "# --------------------------- #\n",
    "class Analyst(BaseModel):\n",
    "    affiliation: str = Field(description=\"Primary affiliation of the analyst.\")\n",
    "    name: str = Field(description=\"Name of the analyst.\")\n",
    "    role: str = Field(description=\"Role of the analyst in the context of the topic.\")\n",
    "    description: str = Field(description=\"Description of the analyst focus, concerns, and motives.\")\n",
    "    @property\n",
    "    def persona(self) -> str:\n",
    "        return (f\"Name: {self.name}\\n\"\n",
    "                f\"Role: {self.role}\\n\"\n",
    "                f\"Affiliation: {self.affiliation}\\n\"\n",
    "                f\"Description: {self.description}\\n\")\n",
    "\n",
    "\n",
    "class Perspectives(BaseModel):\n",
    "    analysts: List[Analyst] = Field(description=\"Comprehensive list of analysts with their roles and affiliations.\")\n",
    "\n",
    "\n",
    "class GenerateAnalystsState(TypedDict):\n",
    "    topic: str  # research topic\n",
    "    max_analysts: int\n",
    "    human_analyst_feedback: str\n",
    "    analysts: List[Analyst]\n",
    "\n",
    "# --------------------------- #\n",
    "# STATES - GENERATE INTERVIEWS\n",
    "# --------------------------- #\n",
    "class InterviewState(MessagesState):\n",
    "    max_num_turns: int\n",
    "    context: Annotated[list, operator.add]\n",
    "    analyst: Analyst\n",
    "    interview: str\n",
    "    sections: list\n",
    "\n",
    "\n",
    "class SearchQuery(BaseModel):\n",
    "    search_query: str = Field(description=\"Search query for retrival.\")\n",
    "\n",
    "# --------------------------- #\n",
    "# STATES - GENERAL\n",
    "# --------------------------- #\n",
    "class ResearchGraphState(TypedDict):\n",
    "    topic: str # Research topic\n",
    "    max_analysts: int # Number of analysts\n",
    "    human_analyst_feedback: str # Human feedback\n",
    "    analysts: List[Analyst] # Analyst asking questions\n",
    "    sections: Annotated[list, operator.add] # Send() API key\n",
    "    introduction: str # Introduction for the final report\n",
    "    content: str # Content for the final report\n",
    "    conclusion: str # Conclusion for the final report\n",
    "    final_report: str # Final report"
   ],
   "id": "e65969c25d691bd6",
   "outputs": [],
   "execution_count": 335
  },
  {
   "metadata": {
    "ExecuteTime": {
     "end_time": "2025-06-20T10:15:09.869126Z",
     "start_time": "2025-06-20T10:15:09.861418Z"
    }
   },
   "cell_type": "code",
   "source": [
    "# ------------------------------------------------------ #\n",
    "# NODES\n",
    "# ------------------------------------------------------ #\n",
    "# --------------------------- #\n",
    "# NODES - GENERATE ANALYSTS\n",
    "# --------------------------- #\n",
    "def create_analysts(state: GenerateAnalystsState):\n",
    "    \"\"\"Create analysts\"\"\"\n",
    "    topic = state['topic']\n",
    "    max_analysts = state['max_analysts']\n",
    "    human_analyst_feedback = state.get('human_analyst_feedback', '')\n",
    "\n",
    "    structured_llm = chat_llm.with_structured_output(Perspectives)\n",
    "\n",
    "    system_message = analyst_instructions.format(topic=topic, human_analyst_feedback=human_analyst_feedback, max_analysts=max_analysts)\n",
    "\n",
    "    analysts: Perspectives = structured_llm.invoke([SystemMessage(content=system_message)] + [HumanMessage(content=\"Generate the set of analysts.\")])\n",
    "\n",
    "    return {'analysts': analysts.analysts}\n",
    "\n",
    "\n",
    "def human_feedback(state: GenerateAnalystsState):\n",
    "    \"\"\"No-op node that should be interrupted on\"\"\"\n",
    "    pass\n",
    "\n",
    "\n",
    "# --------------------------- #\n",
    "# NODES - GENERATE INTERVIEWS\n",
    "# --------------------------- #\n",
    "def generate_question(state: InterviewState):\n",
    "    \"\"\"Node to generate question.\"\"\"\n",
    "    analyst = state['analyst']\n",
    "    messages = state['messages']\n",
    "\n",
    "    system_message = question_instructions.format(goals=analyst.persona)\n",
    "    question = chat_llm.invoke([SystemMessage(content=system_message)] + messages)\n",
    "    return {'messages': [question]}\n",
    "\n",
    "\n",
    "def search_web(state: InterviewState):\n",
    "    \"\"\" Retrieve docs from web search \"\"\"\n",
    "    structured_llm = chat_llm.with_structured_output(SearchQuery)\n",
    "    search_query = structured_llm.invoke([SystemMessage(content=search_instructions)] + state['messages'])\n",
    "\n",
    "    search_docs = tavily_search.invoke({\"query\": search_query.search_query})\n",
    "    # formatted_search_docs = \"\\n\\n---\\n\\n\".join(\n",
    "    #     [\n",
    "    #         f'<Document href=\"{doc[\"url\"]}\"/>\\n{doc[\"content\"]}\\n</Document>'\n",
    "    #         for doc in search_docs\n",
    "    #     ]\n",
    "    # )\n",
    "    formatted_search_docs = \"\\n\\n---\\n\\n\"\n",
    "    for doc in search_docs['results']:\n",
    "        formatted_search_docs += \\\n",
    "            f'<Document href=\"{doc[\"url\"]}\"/>\\n{doc[\"content\"]}\\n</Document>'\n",
    "\n",
    "    return {'context': [formatted_search_docs]}\n",
    "\n",
    "\n",
    "def search_wikipedia(state: InterviewState):\n",
    "    \"\"\"Retrieve docs from wikipedia\"\"\"\n",
    "    structured_llm = chat_llm.with_structured_output(SearchQuery)\n",
    "    search_query = structured_llm.invoke([SystemMessage(content=search_instructions)] + state['messages'])\n",
    "\n",
    "    search_docs = WikipediaLoader(query=search_query.search_query, load_max_docs=2).load()\n",
    "    formatted_search_docs = \"\\n\\n---\\n\\n\".join(\n",
    "        [\n",
    "            f'<Document source=\"{doc.metadata[\"source\"]}\" page=\"{doc.metadata.get(\"page\", \"\")}\"/>\\n{doc.page_content}\\n</Document>'\n",
    "            for doc in search_docs\n",
    "        ]\n",
    "    )\n",
    "    return {'context': [formatted_search_docs]}\n",
    "\n",
    "\n",
    "def generate_answer(state: InterviewState):\n",
    "    analyst = state['analyst']\n",
    "    messages = state['messages']\n",
    "    context = state['context']\n",
    "\n",
    "    system_messages = answer_instructions.format(goals=analyst.persona, context=context)\n",
    "    answer = chat_llm.invoke([SystemMessage(content=system_messages)] + messages)\n",
    "    answer.name = 'expert'\n",
    "\n",
    "    return {'messages': [answer]}\n",
    "\n",
    "\n",
    "def save_interview(state: InterviewState):\n",
    "    messages = state['messages']\n",
    "    # Convert interview to a string\n",
    "    interview = get_buffer_string(messages)\n",
    "    return {'interview': interview}\n",
    "\n",
    "\n",
    "def write_section(state: InterviewState):\n",
    "    interview = state['interview']\n",
    "    context = state['context']\n",
    "    analyst = state['analyst']\n",
    "\n",
    "    system_message = section_writer_instructions.format(focus=analyst.description)\n",
    "    section = chat_llm.invoke([SystemMessage(content=system_message)] + [HumanMessage(content=f\"Use this source to write your section: {context}\")])\n",
    "    return {'sections': [section.content]}\n",
    "\n",
    "\n",
    "# --------------------------- #\n",
    "# NODES - GENERAL\n",
    "# --------------------------- #\n",
    "def write_report(state: ResearchGraphState):\n",
    "    # Full set of sections\n",
    "    sections = state[\"sections\"]\n",
    "    topic = state[\"topic\"]\n",
    "\n",
    "    # Concat all sections together\n",
    "    formatted_str_sections = \"\\n\\n\".join([f\"{section}\" for section in sections])\n",
    "\n",
    "    # Summarize the sections into a final report\n",
    "    system_message = report_writer_instructions.format(topic=topic, context=formatted_str_sections)\n",
    "    report = chat_llm.invoke([SystemMessage(content=system_message)]+[HumanMessage(content=f\"Write a report based upon these memos.\")])\n",
    "    return {\"content\": report.content}\n",
    "\n",
    "\n",
    "def write_introduction(state: ResearchGraphState):\n",
    "    # Full set of sections\n",
    "    sections = state[\"sections\"]\n",
    "    topic = state[\"topic\"]\n",
    "\n",
    "    # Concat all sections together\n",
    "    formatted_str_sections = \"\\n\\n\".join([f\"{section}\" for section in sections])\n",
    "\n",
    "    # Summarize the sections into a final report\n",
    "\n",
    "    instructions = intro_conclusion_instructions.format(topic=topic, formatted_str_sections=formatted_str_sections)\n",
    "    intro = chat_llm.invoke([instructions]+[HumanMessage(content=f\"Write the report introduction\")])\n",
    "    return {\"introduction\": intro.content}\n",
    "\n",
    "def write_conclusion(state: ResearchGraphState):\n",
    "    # Full set of sections\n",
    "    sections = state[\"sections\"]\n",
    "    topic = state[\"topic\"]\n",
    "\n",
    "    # Concat all sections together\n",
    "    formatted_str_sections = \"\\n\\n\".join([f\"{section}\" for section in sections])\n",
    "\n",
    "    # Summarize the sections into a final report\n",
    "\n",
    "    instructions = intro_conclusion_instructions.format(topic=topic, formatted_str_sections=formatted_str_sections)\n",
    "    conclusion = chat_llm.invoke([instructions]+[HumanMessage(content=f\"Write the report conclusion\")])\n",
    "    return {\"conclusion\": conclusion.content}\n",
    "\n",
    "def finalize_report(state: ResearchGraphState):\n",
    "    \"\"\" The is the \"reduce\" step where we gather all the sections, combine them, and reflect on them to write the intro/conclusion \"\"\"\n",
    "    # Save full final report\n",
    "    content = state[\"content\"]\n",
    "    if content.startswith(\"## Insights\"):\n",
    "        content = content.strip(\"## Insights\")\n",
    "    if \"## Sources\" in content:\n",
    "        try:\n",
    "            content, sources = content.split(\"\\n## Sources\\n\")\n",
    "        except:\n",
    "            sources = None\n",
    "    else:\n",
    "        sources = None\n",
    "\n",
    "    final_report = state[\"introduction\"] + \"\\n\\n---\\n\\n\" + content + \"\\n\\n---\\n\\n\" + state[\"conclusion\"]\n",
    "    if sources is not None:\n",
    "        final_report += \"\\n\\n## Sources\\n\" + sources\n",
    "    return {\"final_report\": final_report}\n"
   ],
   "id": "78e9cd53386ef84a",
   "outputs": [],
   "execution_count": 336
  },
  {
   "metadata": {
    "ExecuteTime": {
     "end_time": "2025-06-20T10:15:09.880334Z",
     "start_time": "2025-06-20T10:15:09.876909Z"
    }
   },
   "cell_type": "code",
   "source": [
    "# ------------------------------------------------------ #\n",
    "# CONDITIONAL EDGES\n",
    "# ------------------------------------------------------ #\n",
    "# --------------------------- #\n",
    "# GENERATE ANALYSTS\n",
    "# --------------------------- #\n",
    "def should_continue(state: GenerateAnalystsState):\n",
    "    \"\"\"Return the next node to execute\"\"\"\n",
    "    human_analyst_feedback = state.get('human_analyst_feedback', None)\n",
    "    if human_analyst_feedback:\n",
    "        return 'create_analysts'\n",
    "    return END\n",
    "\n",
    "\n",
    "# --------------------------- #\n",
    "# GENERATE INTERVIEWS\n",
    "# --------------------------- #\n",
    "def route_messages(state: InterviewState, name: str = \"expert\"):\n",
    "    \"\"\" Route between question and answer \"\"\"\n",
    "    messages = state['messages']\n",
    "    max_num_turns = state.get('max_num_turns', 2)\n",
    "\n",
    "    num_responses = len([m for m in messages if isinstance(m, AIMessage) and m.name == name])\n",
    "\n",
    "    # End if expert has answered more than the max turns\n",
    "    if num_responses >= max_num_turns:\n",
    "        return 'save_interview'\n",
    "\n",
    "    last_question = messages[-2]\n",
    "\n",
    "    if \"Thank you so much for your help\" in last_question.content:\n",
    "        return 'save_interview'\n",
    "    return \"generate_question\"\n",
    "\n",
    "\n",
    "# --------------------------- #\n",
    "# GENERAL\n",
    "# --------------------------- #\n",
    "def initiate_all_interviews(state: ResearchGraphState):\n",
    "    \"\"\" This is the \"map\" step where we run each interview sub-graph using Send API \"\"\"\n",
    "\n",
    "    # Check if human feedback\n",
    "    human_analyst_feedback=state.get('human_analyst_feedback')\n",
    "    if human_analyst_feedback:\n",
    "        # Return to create_analysts\n",
    "        return \"create_analysts\"\n",
    "\n",
    "    # Otherwise kick off interviews in parallel via Send() API\n",
    "    else:\n",
    "        topic = state[\"topic\"]\n",
    "        return [Send(\"conduct_interview\", {\"analyst\": analyst,\n",
    "                                           \"messages\": [HumanMessage(\n",
    "                                               content=f\"So you said you were writing an article on {topic}?\"\n",
    "                                           )\n",
    "                                                       ]}) for analyst in state[\"analysts\"]]\n"
   ],
   "id": "df52abe497409b2d",
   "outputs": [],
   "execution_count": 337
  },
  {
   "metadata": {
    "ExecuteTime": {
     "end_time": "2025-06-20T10:15:09.891457Z",
     "start_time": "2025-06-20T10:15:09.887703Z"
    }
   },
   "cell_type": "code",
   "source": [
    "# ------------------------------------------------------ #\n",
    "# WORKFLOWS\n",
    "# ------------------------------------------------------ #\n",
    "def create_analysts_builder():\n",
    "    builder = StateGraph(GenerateAnalystsState)\n",
    "    # nodes\n",
    "    builder.add_node(create_analysts)\n",
    "    builder.add_node(human_feedback)\n",
    "    # edges\n",
    "    builder.add_edge(START, 'create_analysts')\n",
    "    builder.add_edge('create_analysts', 'human_feedback')\n",
    "    builder.add_conditional_edges('human_feedback', should_continue, ['create_analysts', END])\n",
    "    return builder\n",
    "\n",
    "\n",
    "def create_interview_builder():\n",
    "    builder = StateGraph(InterviewState)\n",
    "    # nodes\n",
    "    builder.add_node(generate_question)\n",
    "    builder.add_node(search_web)\n",
    "    builder.add_node(search_wikipedia)\n",
    "    builder.add_node(generate_answer)\n",
    "    builder.add_node(save_interview)\n",
    "    builder.add_node(write_section)\n",
    "    # edges\n",
    "    builder.add_edge(START, 'generate_question')\n",
    "    builder.add_edge('generate_question', 'search_web')\n",
    "    builder.add_edge('generate_question', 'search_wikipedia')\n",
    "    builder.add_edge('search_web', 'generate_answer')\n",
    "    builder.add_edge('search_wikipedia', 'generate_answer')\n",
    "    builder.add_conditional_edges('generate_answer', route_messages, ['generate_question', 'save_interview'])\n",
    "    builder.add_edge('save_interview', 'write_section')\n",
    "    builder.add_edge('write_section', END)\n",
    "\n",
    "    return builder\n",
    "\n",
    "def create_general_builder():\n",
    "    builder = StateGraph(ResearchGraphState)\n",
    "    builder.add_node(\"create_analysts\", create_analysts)\n",
    "    builder.add_node(\"human_feedback\", human_feedback)\n",
    "    builder.add_node(\"conduct_interview\", create_interview_builder().compile())\n",
    "    builder.add_node(\"write_report\",write_report)\n",
    "    builder.add_node(\"write_introduction\",write_introduction)\n",
    "    builder.add_node(\"write_conclusion\",write_conclusion)\n",
    "    builder.add_node(\"finalize_report\",finalize_report)\n",
    "\n",
    "    # Logic\n",
    "    builder.add_edge(START, \"create_analysts\")\n",
    "    builder.add_edge(\"create_analysts\", \"human_feedback\")\n",
    "    builder.add_conditional_edges(\"human_feedback\", initiate_all_interviews, [\"create_analysts\", \"conduct_interview\"])\n",
    "    builder.add_edge(\"conduct_interview\", \"write_report\")\n",
    "    builder.add_edge(\"conduct_interview\", \"write_introduction\")\n",
    "    builder.add_edge(\"conduct_interview\", \"write_conclusion\")\n",
    "    builder.add_edge([\"write_conclusion\", \"write_report\", \"write_introduction\"], \"finalize_report\")\n",
    "    builder.add_edge(\"finalize_report\", END)\n",
    "    return builder"
   ],
   "id": "4d2bbb2472b717af",
   "outputs": [],
   "execution_count": 338
  },
  {
   "metadata": {
    "ExecuteTime": {
     "end_time": "2025-06-20T10:15:09.900552Z",
     "start_time": "2025-06-20T10:15:09.899037Z"
    }
   },
   "cell_type": "code",
   "source": [
    "# ------------------------------------------------------ #\n",
    "# MEMORY\n",
    "# ------------------------------------------------------ #\n",
    "memory = MemorySaver()"
   ],
   "id": "44249e44d9d036f2",
   "outputs": [],
   "execution_count": 339
  },
  {
   "metadata": {
    "ExecuteTime": {
     "end_time": "2025-06-20T10:15:10.084711Z",
     "start_time": "2025-06-20T10:15:09.907959Z"
    }
   },
   "cell_type": "code",
   "source": [
    "# ------------------------------------------------------ #\n",
    "# COMPILE\n",
    "# ------------------------------------------------------ #\n",
    "graph = create_analysts_builder().compile(interrupt_before=['human_feedback'], checkpointer=memory)\n",
    "# View\n",
    "display(Image(graph.get_graph(xray=1).draw_mermaid_png()))"
   ],
   "id": "ff5671c8677c079a",
   "outputs": [
    {
     "data": {
      "image/png": "[encoded data removed]",
      "text/plain": [
       "<IPython.core.display.Image object>"
      ]
     },
     "metadata": {},
     "output_type": "display_data"
    }
   ],
   "execution_count": 340
  },
  {
   "metadata": {
    "ExecuteTime": {
     "end_time": "2025-06-20T10:15:10.098380Z",
     "start_time": "2025-06-20T10:15:10.096213Z"
    }
   },
   "cell_type": "code",
   "source": [
    "# ------------------------------------------------------ #\n",
    "# INVOCATIONS\n",
    "# ------------------------------------------------------ #\n",
    "# for event in graph.stream({'topic': topic, 'max_analysts': max_analysts,}, thread, stream_mode=\"values\"):\n",
    "#     analysts = event.get('analysts', '')\n",
    "#     if analysts:\n",
    "#         for analyst in analysts:\n",
    "#             print(f\"Name: {analyst.name}\")\n",
    "#             print(f\"Affiliation: {analyst.affiliation}\")\n",
    "#             print(f\"Role: {analyst.role}\")\n",
    "#             print(f\"Description: {analyst.description}\")\n",
    "#             print(\"-\" * 50)"
   ],
   "id": "9cb0cbf980bd60b3",
   "outputs": [],
   "execution_count": 341
  },
  {
   "metadata": {
    "ExecuteTime": {
     "end_time": "2025-06-20T10:15:10.109887Z",
     "start_time": "2025-06-20T10:15:10.107957Z"
    }
   },
   "cell_type": "code",
   "source": [
    "# state = graph.get_state(thread)\n",
    "# state.next"
   ],
   "id": "241851531a6b50d0",
   "outputs": [],
   "execution_count": 342
  },
  {
   "metadata": {
    "ExecuteTime": {
     "end_time": "2025-06-20T10:15:10.121459Z",
     "start_time": "2025-06-20T10:15:10.119933Z"
    }
   },
   "cell_type": "code",
   "source": "# graph.update_state(thread, {'human_analyst_feedback': \"Add in someone from a strartup to add an entrepreneur perspective.\"}, as_node='human_feedback')",
   "id": "d77588652c75e044",
   "outputs": [],
   "execution_count": 343
  },
  {
   "metadata": {
    "ExecuteTime": {
     "end_time": "2025-06-20T10:15:10.131888Z",
     "start_time": "2025-06-20T10:15:10.130069Z"
    }
   },
   "cell_type": "code",
   "source": [
    "# for event in graph.stream(None, thread, stream_mode=\"values\"):\n",
    "#     analysts = event.get('analysts', '')\n",
    "#     if analysts:\n",
    "#         print(\"vvv\" * 50)\n",
    "#         for analyst in analysts:\n",
    "#             print(f\"Name: {analyst.name}\")\n",
    "#             print(f\"Affiliation: {analyst.affiliation}\")\n",
    "#             print(f\"Role: {analyst.role}\")\n",
    "#             print(f\"Description: {analyst.description}\")\n",
    "#             print(\"-\" * 50)\n",
    "#         print(\"^^^\" * 50)"
   ],
   "id": "1b273b2e24ead131",
   "outputs": [],
   "execution_count": 344
  },
  {
   "metadata": {
    "ExecuteTime": {
     "end_time": "2025-06-20T10:15:10.141298Z",
     "start_time": "2025-06-20T10:15:10.139609Z"
    }
   },
   "cell_type": "code",
   "source": "# graph.update_state(thread, {'human_analyst_feedback': None}, as_node='human_feedback')",
   "id": "655bc92bcf1ba125",
   "outputs": [],
   "execution_count": 345
  },
  {
   "metadata": {
    "ExecuteTime": {
     "end_time": "2025-06-20T10:15:10.150437Z",
     "start_time": "2025-06-20T10:15:10.148760Z"
    }
   },
   "cell_type": "code",
   "source": [
    "# for event in graph.stream(None, thread, stream_mode=\"values\"):\n",
    "#     print('--- Node ---')\n",
    "#     node_name = next(iter(event.keys()))\n",
    "#     print(node_name)"
   ],
   "id": "c4b778c18810e05e",
   "outputs": [],
   "execution_count": 346
  },
  {
   "metadata": {
    "ExecuteTime": {
     "end_time": "2025-06-20T10:15:10.159724Z",
     "start_time": "2025-06-20T10:15:10.158277Z"
    }
   },
   "cell_type": "code",
   "source": [
    "# final_state = graph.get_state(thread)\n",
    "# final_state.next"
   ],
   "id": "9bcb0c775f5180d2",
   "outputs": [],
   "execution_count": 347
  },
  {
   "metadata": {
    "ExecuteTime": {
     "end_time": "2025-06-20T10:15:10.169807Z",
     "start_time": "2025-06-20T10:15:10.168286Z"
    }
   },
   "cell_type": "code",
   "source": [
    "# analysts = final_state.values.get('analysts')\n",
    "# for analyst in analysts:\n",
    "#     print(f\"Name: {analyst.name}\")\n",
    "#     print(f\"Affiliation: {analyst.affiliation}\")\n",
    "#     print(f\"Role: {analyst.role}\")\n",
    "#     print(f\"Description: {analyst.description}\")\n",
    "#     print(\"-\" * 50)"
   ],
   "id": "b69c8390f790fa5c",
   "outputs": [],
   "execution_count": 348
  },
  {
   "metadata": {
    "ExecuteTime": {
     "end_time": "2025-06-20T10:15:10.363937Z",
     "start_time": "2025-06-20T10:15:10.177849Z"
    }
   },
   "cell_type": "code",
   "source": [
    "# ------------------------------------------------------ #\n",
    "# COMPILE - INTERVIEWS\n",
    "# ------------------------------------------------------ #\n",
    "interview_graph = create_interview_builder().compile(checkpointer=memory).with_config(run_name='Conduct Interviews')\n",
    "display(Image(interview_graph.get_graph(xray=1).draw_mermaid_png()))"
   ],
   "id": "8ee80219398c518d",
   "outputs": [
    {
     "data": {
      "image/png": "[encoded data removed]",
      "text/plain": [
       "<IPython.core.display.Image object>"
      ]
     },
     "metadata": {},
     "output_type": "display_data"
    }
   ],
   "execution_count": 349
  },
  {
   "metadata": {
    "ExecuteTime": {
     "end_time": "2025-06-20T10:15:10.379964Z",
     "start_time": "2025-06-20T10:15:10.377846Z"
    }
   },
   "cell_type": "code",
   "source": [
    "# ------------------------------------------------------ #\n",
    "# INVOCATIONS - INTERVIEWS\n",
    "# ------------------------------------------------------ #\n",
    "# analysts[0]"
   ],
   "id": "7375d3f0aab58442",
   "outputs": [],
   "execution_count": 350
  },
  {
   "metadata": {
    "ExecuteTime": {
     "end_time": "2025-06-20T10:15:10.391568Z",
     "start_time": "2025-06-20T10:15:10.389558Z"
    }
   },
   "cell_type": "code",
   "source": [
    "# messages = [HumanMessage(content=f\"So you said you were working on {topic}?\")]\n",
    "# interview = interview_graph.invoke({\"analyst\": analysts[0], \"messages\": messages, \"max_num_turns\": 2}, thread)\n",
    "# Markdown(interview['sections'][0])"
   ],
   "id": "978b1045ad23804e",
   "outputs": [],
   "execution_count": 351
  },
  {
   "metadata": {
    "ExecuteTime": {
     "end_time": "2025-06-20T10:15:10.595990Z",
     "start_time": "2025-06-20T10:15:10.401253Z"
    }
   },
   "cell_type": "code",
   "source": [
    "graph = create_general_builder().compile(interrupt_before=['human_feedback'], checkpointer=memory)\n",
    "display(Image(graph.get_graph(xray=1).draw_mermaid_png()))"
   ],
   "id": "9bd6cdf2fa07b3b6",
   "outputs": [
    {
     "data": {
      "image/png": "[encoded data removed]",
      "text/plain": [
       "<IPython.core.display.Image object>"
      ]
     },
     "metadata": {},
     "output_type": "display_data"
    }
   ],
   "execution_count": 352
  },
  {
   "metadata": {
    "ExecuteTime": {
     "end_time": "2025-06-20T10:15:18.316785Z",
     "start_time": "2025-06-20T10:15:10.611992Z"
    }
   },
   "cell_type": "code",
   "source": [
    "# Inputs\n",
    "max_analysts = 3\n",
    "topic = \"The benefits of adopting LangGraph as an agent framework\"\n",
    "thread = {\"configurable\": {\"thread_id\": \"1\"}}\n",
    "\n",
    "# Run the graph until the first interruption\n",
    "for event in graph.stream({\"topic\":topic,\n",
    "                           \"max_analysts\":max_analysts},\n",
    "                          thread,\n",
    "                          stream_mode=\"values\"):\n",
    "\n",
    "    analysts = event.get('analysts', '')\n",
    "    if analysts:\n",
    "        for analyst in analysts:\n",
    "            print(f\"Name: {analyst.name}\")\n",
    "            print(f\"Affiliation: {analyst.affiliation}\")\n",
    "            print(f\"Role: {analyst.role}\")\n",
    "            print(f\"Description: {analyst.description}\")\n",
    "            print(\"-\" * 50)"
   ],
   "id": "f5c7dfe3b9ae77bc",
   "outputs": [
    {
     "name": "stdout",
     "output_type": "stream",
     "text": [
      "Name: Dr. Rachel Kim\n",
      "Affiliation: Research Scientist\n",
      "Role: Technical Expert\n",
      "Description: A leading expert in AI and LangGraph, Dr. Kim has extensive experience in developing and implementing agent frameworks for complex systems.\n",
      "--------------------------------------------------\n",
      "Name: Alex Chen\n",
      "Affiliation: Business Analyst\n",
      "Role: Practical Expert\n",
      "Description: With a background in business operations, Alex brings a practical perspective to the adoption of LangGraph, focusing on its potential impact on organizational efficiency and productivity.\n",
      "--------------------------------------------------\n",
      "Name: Dr. Liam Patel\n",
      "Affiliation: Researcher\n",
      "Role: Theoretical Expert\n",
      "Description: A theoretical computer scientist with a focus on AI and machine learning, Dr. Patel is well-versed in the underlying mathematics and algorithms that underpin LangGraph's agent framework.\n",
      "--------------------------------------------------\n"
     ]
    }
   ],
   "execution_count": 353
  },
  {
   "metadata": {
    "ExecuteTime": {
     "end_time": "2025-06-20T10:15:18.350322Z",
     "start_time": "2025-06-20T10:15:18.344306Z"
    }
   },
   "cell_type": "code",
   "source": [
    "graph.update_state(thread, {\"human_analyst_feedback\":\n",
    "                                \"Add in the CEO of gen ai native startup\"}, as_node=\"human_feedback\")"
   ],
   "id": "9374069632242a31",
   "outputs": [
    {
     "data": {
      "text/plain": [
       "{'configurable': {'thread_id': '1',\n",
       "  'checkpoint_ns': '',\n",
       "  'checkpoint_id': '1f04dbf7-7434-6f56-8002-fc136db09279'}}"
      ]
     },
     "execution_count": 354,
     "metadata": {},
     "output_type": "execute_result"
    }
   ],
   "execution_count": 354
  },
  {
   "metadata": {
    "ExecuteTime": {
     "end_time": "2025-06-20T10:15:30.772267Z",
     "start_time": "2025-06-20T10:15:18.364284Z"
    }
   },
   "cell_type": "code",
   "source": [
    "# Check\n",
    "for event in graph.stream(None, thread, stream_mode=\"values\"):\n",
    "    analysts = event.get('analysts', '')\n",
    "    if analysts:\n",
    "        for analyst in analysts:\n",
    "            print(f\"Name: {analyst.name}\")\n",
    "            print(f\"Affiliation: {analyst.affiliation}\")\n",
    "            print(f\"Role: {analyst.role}\")\n",
    "            print(f\"Description: {analyst.description}\")\n",
    "            print(\"-\" * 50)"
   ],
   "id": "5d32a1fb1a08054d",
   "outputs": [
    {
     "name": "stdout",
     "output_type": "stream",
     "text": [
      "Name: Dr. Rachel Kim\n",
      "Affiliation: Research Scientist\n",
      "Role: Technical Expert\n",
      "Description: A leading expert in AI and LangGraph, Dr. Kim has extensive experience in developing and implementing agent frameworks for complex systems.\n",
      "--------------------------------------------------\n",
      "Name: Alex Chen\n",
      "Affiliation: Business Analyst\n",
      "Role: Practical Expert\n",
      "Description: With a background in business operations, Alex brings a practical perspective to the adoption of LangGraph, focusing on its potential impact on organizational efficiency and productivity.\n",
      "--------------------------------------------------\n",
      "Name: Dr. Liam Patel\n",
      "Affiliation: Researcher\n",
      "Role: Theoretical Expert\n",
      "Description: A theoretical computer scientist with a focus on AI and machine learning, Dr. Patel is well-versed in the underlying mathematics and algorithms that underpin LangGraph's agent framework.\n",
      "--------------------------------------------------\n",
      "Name: Dr. Rachel Kim\n",
      "Affiliation: LangGraph Research Team\n",
      "Role: Lead Researcher\n",
      "Description: As a renowned expert in agent frameworks, Dr. Kim has extensive experience with LangGraph and is leading the research team to investigate its benefits.\n",
      "--------------------------------------------------\n",
      "Name: CEO Alex Chen\n",
      "Affiliation: Gen AI Native Startup\n",
      "Role: Executive\n",
      "Description: As the CEO of a Gen AI native startup, Alex brings a unique perspective on the adoption of LangGraph as an agent framework. He is keenly interested in exploring its potential benefits for his company.\n",
      "--------------------------------------------------\n",
      "Name: Dr. Liam Patel\n",
      "Affiliation: Artificial Intelligence Research Institute\n",
      "Role: Researcher\n",
      "Description: A leading researcher in AI, Dr. Patel has a strong background in agent frameworks and is fascinated by the potential of LangGraph to revolutionize the field.\n",
      "--------------------------------------------------\n",
      "Name: Sarah Lee\n",
      "Affiliation: Investment Bank\n",
      "Role: Analyst\n",
      "Description: With a focus on AI investments, Sarah is eager to assess the viability of LangGraph as an agent framework and its potential impact on the market.\n",
      "--------------------------------------------------\n",
      "Name: Juan Hernandez\n",
      "Affiliation: LangGraph Community Forum\n",
      "Role: Community Moderator\n",
      "Description: As a moderator of the LangGraph community forum, Juan has witnessed firsthand the enthusiasm and interest in LangGraph among developers and researchers. He is keen to share his insights on its adoption benefits.\n",
      "--------------------------------------------------\n",
      "Name: Michael Kim\n",
      "Affiliation: Business Intelligence Consulting Firm\n",
      "Role: Consultant\n",
      "Description: With expertise in business intelligence, Michael is interested in exploring how LangGraph can enhance decision-making processes and drive business growth.\n",
      "--------------------------------------------------\n"
     ]
    }
   ],
   "execution_count": 355
  },
  {
   "metadata": {
    "ExecuteTime": {
     "end_time": "2025-06-20T10:15:30.801201Z",
     "start_time": "2025-06-20T10:15:30.793640Z"
    }
   },
   "cell_type": "code",
   "source": [
    "# Confirm we are happy\n",
    "graph.update_state(thread, {\"human_analyst_feedback\":\n",
    "                            None}, as_node=\"human_feedback\")"
   ],
   "id": "a109f95cec9d05ec",
   "outputs": [
    {
     "data": {
      "text/plain": [
       "{'configurable': {'thread_id': '1',\n",
       "  'checkpoint_ns': '',\n",
       "  'checkpoint_id': '1f04dbf7-eaf3-6066-8004-d0c200160137'}}"
      ]
     },
     "execution_count": 356,
     "metadata": {},
     "output_type": "execute_result"
    }
   ],
   "execution_count": 356
  },
  {
   "metadata": {
    "ExecuteTime": {
     "end_time": "2025-06-20T10:22:27.181015Z",
     "start_time": "2025-06-20T10:15:30.813073Z"
    }
   },
   "cell_type": "code",
   "source": [
    "# Continue\n",
    "for event in graph.stream(None, thread, stream_mode=\"updates\"):\n",
    "    print(\"--Node--\")\n",
    "    node_name = next(iter(event.keys()))\n",
    "    print(node_name)"
   ],
   "id": "9b4cfba4636f1d43",
   "outputs": [
    {
     "ename": "KeyError",
     "evalue": "'results'",
     "output_type": "error",
     "traceback": [
      "\u001B[31m---------------------------------------------------------------------------\u001B[39m",
      "\u001B[31mKeyError\u001B[39m                                  Traceback (most recent call last)",
      "\u001B[36mCell\u001B[39m\u001B[36m \u001B[39m\u001B[32mIn[357]\u001B[39m\u001B[32m, line 2\u001B[39m\n\u001B[32m      1\u001B[39m \u001B[38;5;66;03m# Continue\u001B[39;00m\n\u001B[32m----> \u001B[39m\u001B[32m2\u001B[39m \u001B[38;5;28;43;01mfor\u001B[39;49;00m\u001B[43m \u001B[49m\u001B[43mevent\u001B[49m\u001B[43m \u001B[49m\u001B[38;5;129;43;01min\u001B[39;49;00m\u001B[43m \u001B[49m\u001B[43mgraph\u001B[49m\u001B[43m.\u001B[49m\u001B[43mstream\u001B[49m\u001B[43m(\u001B[49m\u001B[38;5;28;43;01mNone\u001B[39;49;00m\u001B[43m,\u001B[49m\u001B[43m \u001B[49m\u001B[43mthread\u001B[49m\u001B[43m,\u001B[49m\u001B[43m \u001B[49m\u001B[43mstream_mode\u001B[49m\u001B[43m=\u001B[49m\u001B[33;43m\"\u001B[39;49m\u001B[33;43mupdates\u001B[39;49m\u001B[33;43m\"\u001B[39;49m\u001B[43m)\u001B[49m\u001B[43m:\u001B[49m\n\u001B[32m      3\u001B[39m \u001B[43m    \u001B[49m\u001B[38;5;28;43mprint\u001B[39;49m\u001B[43m(\u001B[49m\u001B[33;43m\"\u001B[39;49m\u001B[33;43m--Node--\u001B[39;49m\u001B[33;43m\"\u001B[39;49m\u001B[43m)\u001B[49m\n\u001B[32m      4\u001B[39m \u001B[43m    \u001B[49m\u001B[43mnode_name\u001B[49m\u001B[43m \u001B[49m\u001B[43m=\u001B[49m\u001B[43m \u001B[49m\u001B[38;5;28;43mnext\u001B[39;49m\u001B[43m(\u001B[49m\u001B[38;5;28;43miter\u001B[39;49m\u001B[43m(\u001B[49m\u001B[43mevent\u001B[49m\u001B[43m.\u001B[49m\u001B[43mkeys\u001B[49m\u001B[43m(\u001B[49m\u001B[43m)\u001B[49m\u001B[43m)\u001B[49m\u001B[43m)\u001B[49m\n",
      "\u001B[36mFile \u001B[39m\u001B[32m~/PycharmProjects/Learning_LLMs/.venv/lib/python3.12/site-packages/langgraph/pregel/__init__.py:2436\u001B[39m, in \u001B[36mPregel.stream\u001B[39m\u001B[34m(self, input, config, stream_mode, output_keys, interrupt_before, interrupt_after, checkpoint_during, debug, subgraphs)\u001B[39m\n\u001B[32m   2434\u001B[39m         \u001B[38;5;28;01mfor\u001B[39;00m task \u001B[38;5;129;01min\u001B[39;00m loop.match_cached_writes():\n\u001B[32m   2435\u001B[39m             loop.output_writes(task.id, task.writes, cached=\u001B[38;5;28;01mTrue\u001B[39;00m)\n\u001B[32m-> \u001B[39m\u001B[32m2436\u001B[39m \u001B[43m        \u001B[49m\u001B[38;5;28;43;01mfor\u001B[39;49;00m\u001B[43m \u001B[49m\u001B[43m_\u001B[49m\u001B[43m \u001B[49m\u001B[38;5;129;43;01min\u001B[39;49;00m\u001B[43m \u001B[49m\u001B[43mrunner\u001B[49m\u001B[43m.\u001B[49m\u001B[43mtick\u001B[49m\u001B[43m(\u001B[49m\n\u001B[32m   2437\u001B[39m \u001B[43m            \u001B[49m\u001B[43m[\u001B[49m\u001B[43mt\u001B[49m\u001B[43m \u001B[49m\u001B[38;5;28;43;01mfor\u001B[39;49;00m\u001B[43m \u001B[49m\u001B[43mt\u001B[49m\u001B[43m \u001B[49m\u001B[38;5;129;43;01min\u001B[39;49;00m\u001B[43m \u001B[49m\u001B[43mloop\u001B[49m\u001B[43m.\u001B[49m\u001B[43mtasks\u001B[49m\u001B[43m.\u001B[49m\u001B[43mvalues\u001B[49m\u001B[43m(\u001B[49m\u001B[43m)\u001B[49m\u001B[43m \u001B[49m\u001B[38;5;28;43;01mif\u001B[39;49;00m\u001B[43m \u001B[49m\u001B[38;5;129;43;01mnot\u001B[39;49;00m\u001B[43m \u001B[49m\u001B[43mt\u001B[49m\u001B[43m.\u001B[49m\u001B[43mwrites\u001B[49m\u001B[43m]\u001B[49m\u001B[43m,\u001B[49m\n\u001B[32m   2438\u001B[39m \u001B[43m            \u001B[49m\u001B[43mtimeout\u001B[49m\u001B[43m=\u001B[49m\u001B[38;5;28;43mself\u001B[39;49m\u001B[43m.\u001B[49m\u001B[43mstep_timeout\u001B[49m\u001B[43m,\u001B[49m\n\u001B[32m   2439\u001B[39m \u001B[43m            \u001B[49m\u001B[43mget_waiter\u001B[49m\u001B[43m=\u001B[49m\u001B[43mget_waiter\u001B[49m\u001B[43m,\u001B[49m\n\u001B[32m   2440\u001B[39m \u001B[43m            \u001B[49m\u001B[43mschedule_task\u001B[49m\u001B[43m=\u001B[49m\u001B[43mloop\u001B[49m\u001B[43m.\u001B[49m\u001B[43maccept_push\u001B[49m\u001B[43m,\u001B[49m\n\u001B[32m   2441\u001B[39m \u001B[43m        \u001B[49m\u001B[43m)\u001B[49m\u001B[43m:\u001B[49m\n\u001B[32m   2442\u001B[39m \u001B[43m            \u001B[49m\u001B[38;5;66;43;03m# emit output\u001B[39;49;00m\n\u001B[32m   2443\u001B[39m \u001B[43m            \u001B[49m\u001B[38;5;28;43;01myield from\u001B[39;49;00m\u001B[43m \u001B[49m\u001B[43moutput\u001B[49m\u001B[43m(\u001B[49m\u001B[43m)\u001B[49m\n\u001B[32m   2444\u001B[39m \u001B[38;5;66;03m# emit output\u001B[39;00m\n",
      "\u001B[36mFile \u001B[39m\u001B[32m~/PycharmProjects/Learning_LLMs/.venv/lib/python3.12/site-packages/langgraph/pregel/__init__.py:2719\u001B[39m, in \u001B[36mPregel.invoke\u001B[39m\u001B[34m(self, input, config, stream_mode, output_keys, interrupt_before, interrupt_after, checkpoint_during, debug, **kwargs)\u001B[39m\n\u001B[32m   2716\u001B[39m chunks: \u001B[38;5;28mlist\u001B[39m[Union[\u001B[38;5;28mdict\u001B[39m[\u001B[38;5;28mstr\u001B[39m, Any], Any]] = []\n\u001B[32m   2717\u001B[39m interrupts: \u001B[38;5;28mlist\u001B[39m[Interrupt] = []\n\u001B[32m-> \u001B[39m\u001B[32m2719\u001B[39m \u001B[43m\u001B[49m\u001B[38;5;28;43;01mfor\u001B[39;49;00m\u001B[43m \u001B[49m\u001B[43mchunk\u001B[49m\u001B[43m \u001B[49m\u001B[38;5;129;43;01min\u001B[39;49;00m\u001B[43m \u001B[49m\u001B[38;5;28;43mself\u001B[39;49m\u001B[43m.\u001B[49m\u001B[43mstream\u001B[49m\u001B[43m(\u001B[49m\n\u001B[32m   2720\u001B[39m \u001B[43m    \u001B[49m\u001B[38;5;28;43minput\u001B[39;49m\u001B[43m,\u001B[49m\n\u001B[32m   2721\u001B[39m \u001B[43m    \u001B[49m\u001B[43mconfig\u001B[49m\u001B[43m,\u001B[49m\n\u001B[32m   2722\u001B[39m \u001B[43m    \u001B[49m\u001B[43mstream_mode\u001B[49m\u001B[43m=\u001B[49m\u001B[43mstream_mode\u001B[49m\u001B[43m,\u001B[49m\n\u001B[32m   2723\u001B[39m \u001B[43m    \u001B[49m\u001B[43moutput_keys\u001B[49m\u001B[43m=\u001B[49m\u001B[43moutput_keys\u001B[49m\u001B[43m,\u001B[49m\n\u001B[32m   2724\u001B[39m \u001B[43m    \u001B[49m\u001B[43minterrupt_before\u001B[49m\u001B[43m=\u001B[49m\u001B[43minterrupt_before\u001B[49m\u001B[43m,\u001B[49m\n\u001B[32m   2725\u001B[39m \u001B[43m    \u001B[49m\u001B[43minterrupt_after\u001B[49m\u001B[43m=\u001B[49m\u001B[43minterrupt_after\u001B[49m\u001B[43m,\u001B[49m\n\u001B[32m   2726\u001B[39m \u001B[43m    \u001B[49m\u001B[43mcheckpoint_during\u001B[49m\u001B[43m=\u001B[49m\u001B[43mcheckpoint_during\u001B[49m\u001B[43m,\u001B[49m\n\u001B[32m   2727\u001B[39m \u001B[43m    \u001B[49m\u001B[43mdebug\u001B[49m\u001B[43m=\u001B[49m\u001B[43mdebug\u001B[49m\u001B[43m,\u001B[49m\n\u001B[32m   2728\u001B[39m \u001B[43m    \u001B[49m\u001B[43m*\u001B[49m\u001B[43m*\u001B[49m\u001B[43mkwargs\u001B[49m\u001B[43m,\u001B[49m\n\u001B[32m   2729\u001B[39m \u001B[43m\u001B[49m\u001B[43m)\u001B[49m\u001B[43m:\u001B[49m\n\u001B[32m   2730\u001B[39m \u001B[43m    \u001B[49m\u001B[38;5;28;43;01mif\u001B[39;49;00m\u001B[43m \u001B[49m\u001B[43mstream_mode\u001B[49m\u001B[43m \u001B[49m\u001B[43m==\u001B[49m\u001B[43m \u001B[49m\u001B[33;43m\"\u001B[39;49m\u001B[33;43mvalues\u001B[39;49m\u001B[33;43m\"\u001B[39;49m\u001B[43m:\u001B[49m\n\u001B[32m   2731\u001B[39m \u001B[43m        \u001B[49m\u001B[38;5;28;43;01mif\u001B[39;49;00m\u001B[43m \u001B[49m\u001B[43m(\u001B[49m\n\u001B[32m   2732\u001B[39m \u001B[43m            \u001B[49m\u001B[38;5;28;43misinstance\u001B[39;49m\u001B[43m(\u001B[49m\u001B[43mchunk\u001B[49m\u001B[43m,\u001B[49m\u001B[43m \u001B[49m\u001B[38;5;28;43mdict\u001B[39;49m\u001B[43m)\u001B[49m\n\u001B[32m   2733\u001B[39m \u001B[43m            \u001B[49m\u001B[38;5;129;43;01mand\u001B[39;49;00m\u001B[43m \u001B[49m\u001B[43m(\u001B[49m\u001B[43mints\u001B[49m\u001B[43m \u001B[49m\u001B[43m:=\u001B[49m\u001B[43m \u001B[49m\u001B[43mchunk\u001B[49m\u001B[43m.\u001B[49m\u001B[43mget\u001B[49m\u001B[43m(\u001B[49m\u001B[43mINTERRUPT\u001B[49m\u001B[43m)\u001B[49m\u001B[43m)\u001B[49m\u001B[43m \u001B[49m\u001B[38;5;129;43;01mis\u001B[39;49;00m\u001B[43m \u001B[49m\u001B[38;5;129;43;01mnot\u001B[39;49;00m\u001B[43m \u001B[49m\u001B[38;5;28;43;01mNone\u001B[39;49;00m\n\u001B[32m   2734\u001B[39m \u001B[43m        \u001B[49m\u001B[43m)\u001B[49m\u001B[43m:\u001B[49m\n",
      "\u001B[36mFile \u001B[39m\u001B[32m~/PycharmProjects/Learning_LLMs/.venv/lib/python3.12/site-packages/langgraph/pregel/__init__.py:2436\u001B[39m, in \u001B[36mPregel.stream\u001B[39m\u001B[34m(self, input, config, stream_mode, output_keys, interrupt_before, interrupt_after, checkpoint_during, debug, subgraphs)\u001B[39m\n\u001B[32m   2434\u001B[39m         \u001B[38;5;28;01mfor\u001B[39;00m task \u001B[38;5;129;01min\u001B[39;00m loop.match_cached_writes():\n\u001B[32m   2435\u001B[39m             loop.output_writes(task.id, task.writes, cached=\u001B[38;5;28;01mTrue\u001B[39;00m)\n\u001B[32m-> \u001B[39m\u001B[32m2436\u001B[39m \u001B[43m        \u001B[49m\u001B[38;5;28;43;01mfor\u001B[39;49;00m\u001B[43m \u001B[49m\u001B[43m_\u001B[49m\u001B[43m \u001B[49m\u001B[38;5;129;43;01min\u001B[39;49;00m\u001B[43m \u001B[49m\u001B[43mrunner\u001B[49m\u001B[43m.\u001B[49m\u001B[43mtick\u001B[49m\u001B[43m(\u001B[49m\n\u001B[32m   2437\u001B[39m \u001B[43m            \u001B[49m\u001B[43m[\u001B[49m\u001B[43mt\u001B[49m\u001B[43m \u001B[49m\u001B[38;5;28;43;01mfor\u001B[39;49;00m\u001B[43m \u001B[49m\u001B[43mt\u001B[49m\u001B[43m \u001B[49m\u001B[38;5;129;43;01min\u001B[39;49;00m\u001B[43m \u001B[49m\u001B[43mloop\u001B[49m\u001B[43m.\u001B[49m\u001B[43mtasks\u001B[49m\u001B[43m.\u001B[49m\u001B[43mvalues\u001B[49m\u001B[43m(\u001B[49m\u001B[43m)\u001B[49m\u001B[43m \u001B[49m\u001B[38;5;28;43;01mif\u001B[39;49;00m\u001B[43m \u001B[49m\u001B[38;5;129;43;01mnot\u001B[39;49;00m\u001B[43m \u001B[49m\u001B[43mt\u001B[49m\u001B[43m.\u001B[49m\u001B[43mwrites\u001B[49m\u001B[43m]\u001B[49m\u001B[43m,\u001B[49m\n\u001B[32m   2438\u001B[39m \u001B[43m            \u001B[49m\u001B[43mtimeout\u001B[49m\u001B[43m=\u001B[49m\u001B[38;5;28;43mself\u001B[39;49m\u001B[43m.\u001B[49m\u001B[43mstep_timeout\u001B[49m\u001B[43m,\u001B[49m\n\u001B[32m   2439\u001B[39m \u001B[43m            \u001B[49m\u001B[43mget_waiter\u001B[49m\u001B[43m=\u001B[49m\u001B[43mget_waiter\u001B[49m\u001B[43m,\u001B[49m\n\u001B[32m   2440\u001B[39m \u001B[43m            \u001B[49m\u001B[43mschedule_task\u001B[49m\u001B[43m=\u001B[49m\u001B[43mloop\u001B[49m\u001B[43m.\u001B[49m\u001B[43maccept_push\u001B[49m\u001B[43m,\u001B[49m\n\u001B[32m   2441\u001B[39m \u001B[43m        \u001B[49m\u001B[43m)\u001B[49m\u001B[43m:\u001B[49m\n\u001B[32m   2442\u001B[39m \u001B[43m            \u001B[49m\u001B[38;5;66;43;03m# emit output\u001B[39;49;00m\n\u001B[32m   2443\u001B[39m \u001B[43m            \u001B[49m\u001B[38;5;28;43;01myield from\u001B[39;49;00m\u001B[43m \u001B[49m\u001B[43moutput\u001B[49m\u001B[43m(\u001B[49m\u001B[43m)\u001B[49m\n\u001B[32m   2444\u001B[39m \u001B[38;5;66;03m# emit output\u001B[39;00m\n",
      "\u001B[36mCell\u001B[39m\u001B[36m \u001B[39m\u001B[32mIn[336]\u001B[39m\u001B[32m, line 53\u001B[39m, in \u001B[36msearch_web\u001B[39m\u001B[34m(state)\u001B[39m\n\u001B[32m     46\u001B[39m \u001B[38;5;66;03m# formatted_search_docs = \"\\n\\n---\\n\\n\".join(\u001B[39;00m\n\u001B[32m     47\u001B[39m \u001B[38;5;66;03m#     [\u001B[39;00m\n\u001B[32m     48\u001B[39m \u001B[38;5;66;03m#         f'<Document href=\"{doc[\"url\"]}\"/>\\n{doc[\"content\"]}\\n</Document>'\u001B[39;00m\n\u001B[32m     49\u001B[39m \u001B[38;5;66;03m#         for doc in search_docs\u001B[39;00m\n\u001B[32m     50\u001B[39m \u001B[38;5;66;03m#     ]\u001B[39;00m\n\u001B[32m     51\u001B[39m \u001B[38;5;66;03m# )\u001B[39;00m\n\u001B[32m     52\u001B[39m formatted_search_docs = \u001B[33m\"\u001B[39m\u001B[38;5;130;01m\\n\u001B[39;00m\u001B[38;5;130;01m\\n\u001B[39;00m\u001B[33m---\u001B[39m\u001B[38;5;130;01m\\n\u001B[39;00m\u001B[38;5;130;01m\\n\u001B[39;00m\u001B[33m\"\u001B[39m\n\u001B[32m---> \u001B[39m\u001B[32m53\u001B[39m \u001B[38;5;28;01mfor\u001B[39;00m doc \u001B[38;5;129;01min\u001B[39;00m \u001B[43msearch_docs\u001B[49m\u001B[43m[\u001B[49m\u001B[33;43m'\u001B[39;49m\u001B[33;43mresults\u001B[39;49m\u001B[33;43m'\u001B[39;49m\u001B[43m]\u001B[49m:\n\u001B[32m     54\u001B[39m     formatted_search_docs += \\\n\u001B[32m     55\u001B[39m         \u001B[33mf\u001B[39m\u001B[33m'\u001B[39m\u001B[33m<Document href=\u001B[39m\u001B[33m\"\u001B[39m\u001B[38;5;132;01m{\u001B[39;00mdoc[\u001B[33m\"\u001B[39m\u001B[33murl\u001B[39m\u001B[33m\"\u001B[39m]\u001B[38;5;132;01m}\u001B[39;00m\u001B[33m\"\u001B[39m\u001B[33m/>\u001B[39m\u001B[38;5;130;01m\\n\u001B[39;00m\u001B[38;5;132;01m{\u001B[39;00mdoc[\u001B[33m\"\u001B[39m\u001B[33mcontent\u001B[39m\u001B[33m\"\u001B[39m]\u001B[38;5;132;01m}\u001B[39;00m\u001B[38;5;130;01m\\n\u001B[39;00m\u001B[33m</Document>\u001B[39m\u001B[33m'\u001B[39m\n\u001B[32m     57\u001B[39m \u001B[38;5;28;01mreturn\u001B[39;00m {\u001B[33m'\u001B[39m\u001B[33mcontext\u001B[39m\u001B[33m'\u001B[39m: [formatted_search_docs]}\n",
      "\u001B[31mKeyError\u001B[39m: 'results'",
      "During task with name 'search_web' and id 'edaea3e8-5f50-4bd4-dfd5-cf57f00d2651'",
      "During task with name 'conduct_interview' and id 'e5c41d22-d3d8-bfed-9f55-c7a34193d3a1'"
     ]
    }
   ],
   "execution_count": 357
  },
  {
   "metadata": {},
   "cell_type": "code",
   "outputs": [],
   "execution_count": null,
   "source": [
    "final_state = graph.get_state(thread)\n",
    "report = final_state.values.get('final_report')\n",
    "Markdown(report)"
   ],
   "id": "d0dcde7c3c26fc0f"
  },
  {
   "metadata": {},
   "cell_type": "code",
   "outputs": [],
   "execution_count": null,
   "source": "",
   "id": "258e2adca9119ec4"
  }
 ],
 "metadata": {
  "kernelspec": {
   "display_name": "Python 3",
   "language": "python",
   "name": "python3"
  },
  "language_info": {
   "codemirror_mode": {
    "name": "ipython",
    "version": 2
   },
   "file_extension": ".py",
   "mimetype": "text/x-python",
   "name": "python",
   "nbconvert_exporter": "python",
   "pygments_lexer": "ipython2",
   "version": "2.7.6"
  }
 },
 "nbformat": 4,
 "nbformat_minor": 5
}
