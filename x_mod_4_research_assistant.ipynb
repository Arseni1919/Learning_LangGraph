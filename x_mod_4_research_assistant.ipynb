{
 "cells": [
  {
   "cell_type": "code",
   "id": "initial_id",
   "metadata": {
    "collapsed": true,
    "ExecuteTime": {
     "end_time": "2025-06-19T17:27:24.722518Z",
     "start_time": "2025-06-19T17:27:23.711437Z"
    }
   },
   "source": [
    "import os\n",
    "from typing import *\n",
    "import operator\n",
    "\n",
    "from dotenv import load_dotenv\n",
    "from numba.np.ufunc.parallel import build_gufunc_kernel\n",
    "\n",
    "load_dotenv()\n",
    "from IPython.display import Image, display\n",
    "import sqlite3\n",
    "from pydantic import BaseModel, Field\n",
    "\n",
    "\n",
    "from langchain_ollama import ChatOllama\n",
    "from langchain_together import ChatTogether\n",
    "from langchain_huggingface import HuggingFaceEndpoint,ChatHuggingFace\n",
    "from langchain_core.messages import AnyMessage, HumanMessage, AIMessage, SystemMessage, ToolMessage, RemoveMessage\n",
    "from langchain_community.tools import TavilySearchResults\n",
    "from langchain_community.document_loaders import WikipediaLoader\n",
    "from langgraph.graph import StateGraph, START, END, MessagesState\n",
    "from langgraph.graph.message import add_messages\n",
    "from langgraph.prebuilt import tools_condition, ToolNode\n",
    "from langgraph.checkpoint.memory import MemorySaver\n",
    "from langgraph.errors import NodeInterrupt\n",
    "from langgraph.types import interrupt, Command\n",
    "from langgraph.constants import Send"
   ],
   "outputs": [],
   "execution_count": 1
  },
  {
   "metadata": {
    "ExecuteTime": {
     "end_time": "2025-06-19T17:27:25.227402Z",
     "start_time": "2025-06-19T17:27:25.225201Z"
    }
   },
   "cell_type": "code",
   "source": [
    "# ------------------------------------------------------ #\n",
    "# GLOBALS\n",
    "# ------------------------------------------------------ #\n",
    "TOGETHER_API_KEY = os.getenv(\"TOGETHER_API_KEY\")\n",
    "\n",
    "analyst_instructions=\"\"\"You are tasked with creating a set of AI analyst personas. Follow these instructions carefully:\n",
    "\n",
    "1. First, review the research topic:\n",
    "{topic}\n",
    "\n",
    "2. Examine any editorial feedback that has been optionally provided to guide creation of the analysts:\n",
    "\n",
    "{human_analyst_feedback}\n",
    "\n",
    "3. Determine the most interesting themes based upon documents and / or feedback above.\n",
    "\n",
    "4. Pick the top {max_analysts} themes.\n",
    "\n",
    "5. Assign one analyst to each theme.\"\"\""
   ],
   "id": "1ba45873409590fd",
   "outputs": [],
   "execution_count": 2
  },
  {
   "metadata": {
    "ExecuteTime": {
     "end_time": "2025-06-19T17:27:25.664724Z",
     "start_time": "2025-06-19T17:27:25.635639Z"
    }
   },
   "cell_type": "code",
   "source": [
    "# ------------------------------------------------------ #\n",
    "# MODELS\n",
    "# ------------------------------------------------------ #\n",
    "# chat_llm = ChatTogether(model=\"meta-llama/Llama-3.3-70B-Instruct-Turbo-Free\", api_key=TOGETHER_API_KEY)\n",
    "chat_llm = ChatOllama(model='llama3.2:latest')"
   ],
   "id": "b78d1166d82f04f9",
   "outputs": [],
   "execution_count": 3
  },
  {
   "metadata": {},
   "cell_type": "code",
   "source": [
    "# ------------------------------------------------------ #\n",
    "# STATES\n",
    "# ------------------------------------------------------ #\n",
    "# --------------------------- #\n",
    "# GENERATE ANALYSTS\n",
    "# --------------------------- #\n",
    "class Analyst(BaseModel):\n",
    "    affiliation: str = Field(description=\"Primary affiliation of the analyst.\")\n",
    "    name: str = Field(description=\"Name of the analyst.\")\n",
    "    role: str = Field(description=\"Role of the analyst in the context of the topic.\")\n",
    "    description: str = Field(description=\"Description of the analyst focus, concerns, and motives.\")\n",
    "    @property\n",
    "    def persona(self) -> str:\n",
    "        return (f\"Name: {self.name}\\n\"\n",
    "                f\"Role: {self.role}\\n\"\n",
    "                f\"Affiliation: {self.affiliation}\\n\"\n",
    "                f\"Description: {self.description}\\n\")\n",
    "\n",
    "\n",
    "class Perspectives(BaseModel):\n",
    "    analysts: List[Analyst] = Field(description=\"Comprehensive list of analysts with their roles and affiliations.\")\n",
    "\n",
    "\n",
    "class GenerateAnalystsState(TypedDict):\n",
    "    topic: str  # research topic\n",
    "    max_analysts: int\n",
    "    human_analyst_feedback: str\n",
    "    analysts: List[Analyst]"
   ],
   "id": "e65969c25d691bd6",
   "outputs": [],
   "execution_count": null
  },
  {
   "metadata": {},
   "cell_type": "code",
   "source": [
    "# ------------------------------------------------------ #\n",
    "# NODES\n",
    "# ------------------------------------------------------ #\n",
    "# --------------------------- #\n",
    "# GENERATE ANALYSTS\n",
    "# --------------------------- #"
   ],
   "id": "78e9cd53386ef84a",
   "outputs": [],
   "execution_count": null
  },
  {
   "metadata": {},
   "cell_type": "code",
   "source": [
    "# ------------------------------------------------------ #\n",
    "# CONDITIONAL EDGES\n",
    "# ------------------------------------------------------ #"
   ],
   "id": "df52abe497409b2d",
   "outputs": [],
   "execution_count": null
  },
  {
   "metadata": {},
   "cell_type": "code",
   "source": [
    "# ------------------------------------------------------ #\n",
    "# WORKFLOWS\n",
    "# ------------------------------------------------------ #\n",
    "# --------------------------- #\n",
    "# GENERATE ANALYSTS\n",
    "# --------------------------- #"
   ],
   "id": "4d2bbb2472b717af",
   "outputs": [],
   "execution_count": null
  },
  {
   "metadata": {},
   "cell_type": "code",
   "source": [
    "# ------------------------------------------------------ #\n",
    "# COMPILE\n",
    "# ------------------------------------------------------ #\n",
    "# --------------------------- #\n",
    "# GENERATE ANALYSTS\n",
    "# --------------------------- #"
   ],
   "id": "ff5671c8677c079a",
   "outputs": [],
   "execution_count": null
  },
  {
   "metadata": {},
   "cell_type": "code",
   "source": [
    "# ------------------------------------------------------ #\n",
    "# INVOCATIONS\n",
    "# ------------------------------------------------------ #\n",
    "# --------------------------- #\n",
    "# GENERATE ANALYSTS\n",
    "# --------------------------- #"
   ],
   "id": "9cb0cbf980bd60b3",
   "outputs": [],
   "execution_count": null
  },
  {
   "metadata": {},
   "cell_type": "code",
   "source": "",
   "id": "241851531a6b50d0",
   "outputs": [],
   "execution_count": null
  }
 ],
 "metadata": {
  "kernelspec": {
   "display_name": "Python 3",
   "language": "python",
   "name": "python3"
  },
  "language_info": {
   "codemirror_mode": {
    "name": "ipython",
    "version": 2
   },
   "file_extension": ".py",
   "mimetype": "text/x-python",
   "name": "python",
   "nbconvert_exporter": "python",
   "pygments_lexer": "ipython2",
   "version": "2.7.6"
  }
 },
 "nbformat": 4,
 "nbformat_minor": 5
}
