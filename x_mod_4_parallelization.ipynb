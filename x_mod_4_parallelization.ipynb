{
 "cells": [
  {
   "cell_type": "code",
   "id": "initial_id",
   "metadata": {
    "collapsed": true,
    "ExecuteTime": {
     "end_time": "2025-06-17T19:35:35.273384Z",
     "start_time": "2025-06-17T19:35:35.268288Z"
    }
   },
   "source": [
    "import os\n",
    "from typing import *\n",
    "import operator\n",
    "\n",
    "from dotenv import load_dotenv\n",
    "load_dotenv()\n",
    "from IPython.display import Image, display\n",
    "import sqlite3\n",
    "\n",
    "\n",
    "from langchain_ollama import ChatOllama\n",
    "from langchain_together import ChatTogether\n",
    "from langchain_huggingface import HuggingFaceEndpoint,ChatHuggingFace\n",
    "from langchain_core.messages import AnyMessage, HumanMessage, AIMessage, SystemMessage, ToolMessage, RemoveMessage\n",
    "from langgraph.graph import StateGraph, START, END, MessagesState\n",
    "from langgraph.graph.message import add_messages\n",
    "from langgraph.prebuilt import tools_condition, ToolNode\n",
    "from langgraph.checkpoint.memory import MemorySaver\n",
    "from langgraph.errors import NodeInterrupt"
   ],
   "outputs": [],
   "execution_count": 56
  },
  {
   "metadata": {
    "ExecuteTime": {
     "end_time": "2025-06-17T19:38:15.515831Z",
     "start_time": "2025-06-17T19:38:15.510605Z"
    }
   },
   "cell_type": "code",
   "source": [
    "# ------------------------------------------------------ #\n",
    "# GLOBALS\n",
    "# ------------------------------------------------------ #\n",
    "TAVILY_API_KEY = os.getenv(\"TAVILY_API_KEY\")\n",
    "TOGETHER_API_KEY = os.getenv(\"TOGETHER_API_KEY\")\n",
    "sys_msg = SystemMessage(content=\"You are a helpful assistant tasked with performing arithmetic on a set of inputs.\")"
   ],
   "id": "7b5a8982e74c65",
   "outputs": [],
   "execution_count": 68
  },
  {
   "metadata": {
    "ExecuteTime": {
     "end_time": "2025-06-17T19:35:35.294295Z",
     "start_time": "2025-06-17T19:35:35.292903Z"
    }
   },
   "cell_type": "code",
   "source": [
    "# ------------------------------------------------------ #\n",
    "# TOOLS\n",
    "# ------------------------------------------------------ #\n"
   ],
   "id": "e5a32629a116600b",
   "outputs": [],
   "execution_count": 58
  },
  {
   "metadata": {
    "ExecuteTime": {
     "end_time": "2025-06-17T19:35:35.331667Z",
     "start_time": "2025-06-17T19:35:35.303889Z"
    }
   },
   "cell_type": "code",
   "source": [
    "# ------------------------------------------------------ #\n",
    "# MODELS\n",
    "# ------------------------------------------------------ #\n",
    "# chat_llm = ChatTogether(model=\"meta-llama/Llama-3.3-70B-Instruct-Turbo-Free\", api_key=TOGETHER_API_KEY)\n",
    "chat_llm = ChatOllama(model='llama3.2:latest')\n",
    "# tools = [add, multiply, divide]\n",
    "# llm_with_tools = chat_llm.bind_tools(tools)"
   ],
   "id": "1dffbdc945f2ee83",
   "outputs": [],
   "execution_count": 59
  },
  {
   "metadata": {
    "ExecuteTime": {
     "end_time": "2025-06-17T19:35:35.339633Z",
     "start_time": "2025-06-17T19:35:35.337758Z"
    }
   },
   "cell_type": "code",
   "source": [
    "# ------------------------------------------------------ #\n",
    "# REDUCERS\n",
    "# ------------------------------------------------------ #\n",
    "def sorting_reducer(left, right):\n",
    "    if not isinstance(left, list):\n",
    "        left = [left]\n",
    "    if not isinstance(right, list):\n",
    "        right = [right]\n",
    "    return sorted(left + right, reverse=False)"
   ],
   "id": "895359a1f8a94d56",
   "outputs": [],
   "execution_count": 60
  },
  {
   "metadata": {
    "ExecuteTime": {
     "end_time": "2025-06-17T19:35:35.347183Z",
     "start_time": "2025-06-17T19:35:35.345710Z"
    }
   },
   "cell_type": "code",
   "source": [
    "# ------------------------------------------------------ #\n",
    "# STATE\n",
    "# ------------------------------------------------------ #\n",
    "# class State(TypedDict):\n",
    "#     state: str\n",
    "\n",
    "class State(TypedDict):\n",
    "    state: Annotated[list, sorting_reducer]"
   ],
   "id": "b83c47d208844da7",
   "outputs": [],
   "execution_count": 61
  },
  {
   "metadata": {
    "ExecuteTime": {
     "end_time": "2025-06-17T19:35:35.355206Z",
     "start_time": "2025-06-17T19:35:35.353507Z"
    }
   },
   "cell_type": "code",
   "source": [
    "# ------------------------------------------------------ #\n",
    "# NODES\n",
    "# ------------------------------------------------------ #\n",
    "class ReturnNodeValue:\n",
    "    def __init__(self, node_secret: str):\n",
    "        self._value = node_secret\n",
    "\n",
    "    def __call__(self, state: State) -> Any:\n",
    "        print(f\"Reassigning <<{self._value}>> to {state['state']}\")\n",
    "        return {'state': [self._value]}"
   ],
   "id": "6a26d0508a74b16d",
   "outputs": [],
   "execution_count": 62
  },
  {
   "metadata": {
    "ExecuteTime": {
     "end_time": "2025-06-17T19:35:35.363853Z",
     "start_time": "2025-06-17T19:35:35.362229Z"
    }
   },
   "cell_type": "code",
   "source": [
    "# ------------------------------------------------------ #\n",
    "# CONDITIONAL EDGES\n",
    "# ------------------------------------------------------ #\n"
   ],
   "id": "7854f98c7ee18b2",
   "outputs": [],
   "execution_count": 63
  },
  {
   "metadata": {
    "ExecuteTime": {
     "end_time": "2025-06-17T19:35:35.372740Z",
     "start_time": "2025-06-17T19:35:35.371081Z"
    }
   },
   "cell_type": "code",
   "source": [
    "# ------------------------------------------------------ #\n",
    "# MEMORY\n",
    "# ------------------------------------------------------ #\n",
    "memory = MemorySaver()"
   ],
   "id": "2a32007bcfc07720",
   "outputs": [],
   "execution_count": 64
  },
  {
   "metadata": {
    "ExecuteTime": {
     "end_time": "2025-06-17T19:35:35.382832Z",
     "start_time": "2025-06-17T19:35:35.379990Z"
    }
   },
   "cell_type": "code",
   "source": [
    "# ------------------------------------------------------ #\n",
    "# WORKFLOWS\n",
    "# ------------------------------------------------------ #\n",
    "def workflow_simple():\n",
    "    builder = StateGraph(State)\n",
    "    # node\n",
    "    builder.add_node(\"a\", ReturnNodeValue(\"I'm A\"))\n",
    "    builder.add_node(\"b\", ReturnNodeValue(\"I'm B\"))\n",
    "    builder.add_node(\"c\", ReturnNodeValue(\"I'm C\"))\n",
    "    builder.add_node(\"d\", ReturnNodeValue(\"I'm D\"))\n",
    "    # edge\n",
    "    builder.add_edge(START, \"a\")\n",
    "    builder.add_edge(\"a\", \"b\")\n",
    "    builder.add_edge(\"b\", \"c\")\n",
    "    builder.add_edge(\"c\", \"d\")\n",
    "    builder.add_edge(\"d\", END)\n",
    "    return builder\n",
    "\n",
    "def workflow_fan_out():\n",
    "    builder = StateGraph(State)\n",
    "    # node\n",
    "    builder.add_node(\"a\", ReturnNodeValue(\"I'm A\"))\n",
    "    builder.add_node(\"b\", ReturnNodeValue(\"I'm B\"))\n",
    "    builder.add_node(\"c\", ReturnNodeValue(\"I'm C\"))\n",
    "    builder.add_node(\"d\", ReturnNodeValue(\"I'm D\"))\n",
    "    # edge\n",
    "    builder.add_edge(START, \"a\")\n",
    "    builder.add_edge(\"a\", \"b\")\n",
    "    builder.add_edge(\"a\", \"c\")\n",
    "    builder.add_edge(\"b\", \"d\")\n",
    "    builder.add_edge(\"c\", \"d\")\n",
    "    builder.add_edge(\"d\", END)\n",
    "    return builder\n",
    "\n",
    "\n",
    "def workflow_waiting():\n",
    "    builder = StateGraph(State)\n",
    "    # nodes\n",
    "    builder.add_node(\"a\", ReturnNodeValue(\"I'm A\"))\n",
    "    builder.add_node(\"b\", ReturnNodeValue(\"I'm B\"))\n",
    "    builder.add_node(\"b2\", ReturnNodeValue(\"I'm B2\"))\n",
    "    builder.add_node(\"c\", ReturnNodeValue(\"I'm C\"))\n",
    "    builder.add_node(\"d\", ReturnNodeValue(\"I'm D\"))\n",
    "    # edges\n",
    "    builder.add_edge(START, \"a\")\n",
    "    builder.add_edge(\"a\", \"b\")\n",
    "    builder.add_edge(\"a\", \"c\")\n",
    "    builder.add_edge(\"b\", \"b2\")\n",
    "    builder.add_edge([\"b2\", \"c\"], \"d\")\n",
    "    builder.add_edge(\"d\", END)\n",
    "    return builder"
   ],
   "id": "cf1cf2451208542e",
   "outputs": [],
   "execution_count": 65
  },
  {
   "metadata": {
    "ExecuteTime": {
     "end_time": "2025-06-17T19:35:35.570920Z",
     "start_time": "2025-06-17T19:35:35.390178Z"
    }
   },
   "cell_type": "code",
   "source": [
    "# ------------------------------------------------------ #\n",
    "# COMPILE GRAPH\n",
    "# ------------------------------------------------------ #\n",
    "# workflow = workflow_simple()\n",
    "# workflow = workflow_fan_out()\n",
    "workflow = workflow_waiting()\n",
    "graph = workflow.compile()\n",
    "# graph = workflow.compile()\n",
    "# print(graph.get_graph().draw_ascii())\n",
    "display(Image(graph.get_graph().draw_mermaid_png()))"
   ],
   "id": "a62fe38c57aa99de",
   "outputs": [
    {
     "data": {
      "image/png": "[encoded data removed]",
      "text/plain": [
       "<IPython.core.display.Image object>"
      ]
     },
     "metadata": {},
     "output_type": "display_data"
    }
   ],
   "execution_count": 66
  },
  {
   "metadata": {
    "ExecuteTime": {
     "end_time": "2025-06-17T19:35:38.806544Z",
     "start_time": "2025-06-17T19:35:38.799923Z"
    }
   },
   "cell_type": "code",
   "source": "graph.invoke({'state': []})",
   "id": "7bdec6c98fd9b2f9",
   "outputs": [
    {
     "name": "stdout",
     "output_type": "stream",
     "text": [
      "Reassigning <<I'm A>> to []\n",
      "Reassigning <<I'm C>> to [\"I'm A\"]\n",
      "Reassigning <<I'm B>> to [\"I'm A\"]\n",
      "Reassigning <<I'm B2>> to [\"I'm A\", \"I'm B\", \"I'm C\"]\n",
      "Reassigning <<I'm D>> to [\"I'm A\", \"I'm B\", \"I'm B2\", \"I'm C\"]\n"
     ]
    },
    {
     "data": {
      "text/plain": [
       "{'state': [\"I'm A\", \"I'm B\", \"I'm B2\", \"I'm C\", \"I'm D\"]}"
      ]
     },
     "execution_count": 67,
     "metadata": {},
     "output_type": "execute_result"
    }
   ],
   "execution_count": 67
  },
  {
   "metadata": {},
   "cell_type": "markdown",
   "source": "---",
   "id": "493ac745dca51b5d"
  },
  {
   "metadata": {},
   "cell_type": "markdown",
   "source": "---",
   "id": "a5c5ba8277ce4390"
  },
  {
   "metadata": {},
   "cell_type": "markdown",
   "source": "---",
   "id": "c2104a435fd21f14"
  },
  {
   "metadata": {},
   "cell_type": "markdown",
   "source": "---",
   "id": "2fc2a46ce758c8ad"
  },
  {
   "metadata": {},
   "cell_type": "markdown",
   "source": "---",
   "id": "35c17d502ee9ea69"
  },
  {
   "metadata": {},
   "cell_type": "markdown",
   "source": "---",
   "id": "faa1dea29cb85e49"
  },
  {
   "metadata": {},
   "cell_type": "markdown",
   "source": "---",
   "id": "757569a4622c80be"
  },
  {
   "metadata": {},
   "cell_type": "markdown",
   "source": "---",
   "id": "951d396502957453"
  },
  {
   "metadata": {},
   "cell_type": "markdown",
   "source": "---",
   "id": "3f43573b8f545f8a"
  },
  {
   "metadata": {},
   "cell_type": "markdown",
   "source": "---",
   "id": "5f7225b4e657dac0"
  },
  {
   "metadata": {},
   "cell_type": "markdown",
   "source": "---",
   "id": "1c5d2a941def051a"
  },
  {
   "metadata": {},
   "cell_type": "markdown",
   "source": "---",
   "id": "fc9c482bbec60f6"
  },
  {
   "metadata": {},
   "cell_type": "markdown",
   "source": "---",
   "id": "c1d3eed8ff561699"
  },
  {
   "metadata": {},
   "cell_type": "markdown",
   "source": "---",
   "id": "a19fac545f3fc62e"
  },
  {
   "metadata": {
    "ExecuteTime": {
     "end_time": "2025-06-17T19:40:02.252042Z",
     "start_time": "2025-06-17T19:40:02.245754Z"
    }
   },
   "cell_type": "code",
   "source": [
    "# ------------------------------------------------------ #\n",
    "# STATE\n",
    "# ------------------------------------------------------ #\n",
    "# class State(TypedDict):\n",
    "#     state: str\n",
    "\n",
    "class State(TypedDict):\n",
    "    question: str\n",
    "    answer: str\n",
    "    context: Annotated[list, sorting_reducer]"
   ],
   "id": "8a75099810e07c5c",
   "outputs": [],
   "execution_count": 69
  },
  {
   "metadata": {},
   "cell_type": "code",
   "outputs": [],
   "execution_count": null,
   "source": "",
   "id": "b849c4aa51e1fddc"
  }
 ],
 "metadata": {
  "kernelspec": {
   "display_name": "Python 3",
   "language": "python",
   "name": "python3"
  },
  "language_info": {
   "codemirror_mode": {
    "name": "ipython",
    "version": 2
   },
   "file_extension": ".py",
   "mimetype": "text/x-python",
   "name": "python",
   "nbconvert_exporter": "python",
   "pygments_lexer": "ipython2",
   "version": "2.7.6"
  }
 },
 "nbformat": 4,
 "nbformat_minor": 5
}
