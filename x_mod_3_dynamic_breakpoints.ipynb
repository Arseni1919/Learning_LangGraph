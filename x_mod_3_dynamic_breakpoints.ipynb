{
 "cells": [
  {
   "cell_type": "code",
   "id": "initial_id",
   "metadata": {
    "collapsed": true,
    "ExecuteTime": {
     "end_time": "2025-06-17T09:49:45.854247Z",
     "start_time": "2025-06-17T09:49:45.852321Z"
    }
   },
   "source": [
    ""
   ],
   "outputs": [],
   "execution_count": null
  },
  {
   "metadata": {
    "collapsed": true,
    "ExecuteTime": {
     "end_time": "2025-06-17T09:49:45.869627Z",
     "start_time": "2025-06-17T09:49:45.864579Z"
    }
   },
   "cell_type": "code",
   "source": [
    "import os\n",
    "from typing import *\n",
    "\n",
    "from dotenv import load_dotenv\n",
    "load_dotenv()\n",
    "from IPython.display import Image, display\n",
    "import sqlite3\n",
    "\n",
    "\n",
    "from langchain_ollama import ChatOllama\n",
    "from langchain_together import ChatTogether\n",
    "from langchain_huggingface import HuggingFaceEndpoint,ChatHuggingFace\n",
    "from langchain_core.messages import AnyMessage, HumanMessage, AIMessage, SystemMessage, ToolMessage, RemoveMessage\n",
    "from langgraph.graph import StateGraph, START, END, MessagesState\n",
    "from langgraph.graph.message import add_messages\n",
    "from langgraph.prebuilt import tools_condition, ToolNode\n",
    "from langgraph.checkpoint.memory import MemorySaver\n",
    "from langgraph.errors import NodeInterrupt"
   ],
   "id": "5db0330fcb1cd90a",
   "outputs": [],
   "execution_count": 57
  },
  {
   "metadata": {
    "ExecuteTime": {
     "end_time": "2025-06-17T09:49:45.886645Z",
     "start_time": "2025-06-17T09:49:45.884921Z"
    }
   },
   "cell_type": "code",
   "source": [
    "# ------------------------------------------------------ #\n",
    "# GLOBALS\n",
    "# ------------------------------------------------------ #\n",
    "TOGETHER_API_KEY = os.getenv(\"TOGETHER_API_KEY\")\n",
    "sys_msg = SystemMessage(content=\"You are a helpful assistant tasked with performing arithmetic on a set of inputs.\")"
   ],
   "id": "9e88bb93b0a9b62a",
   "outputs": [],
   "execution_count": 58
  },
  {
   "metadata": {
    "ExecuteTime": {
     "end_time": "2025-06-17T09:49:45.900353Z",
     "start_time": "2025-06-17T09:49:45.898271Z"
    }
   },
   "cell_type": "code",
   "source": [
    "# ------------------------------------------------------ #\n",
    "# TOOLS\n",
    "# ------------------------------------------------------ #\n",
    "def multiply(a: int, b: int) -> int:\n",
    "    \"\"\"Multiply a and b.\n",
    "\n",
    "    Args:\n",
    "        a: first int\n",
    "        b: second int\n",
    "    \"\"\"\n",
    "    return a * b\n",
    "\n",
    "# This will be a tool\n",
    "def add(a: int, b: int) -> int:\n",
    "    \"\"\"Adds a and b.\n",
    "\n",
    "    Args:\n",
    "        a: first int\n",
    "        b: second int\n",
    "    \"\"\"\n",
    "    return a + b\n",
    "\n",
    "def divide(a: int, b: int) -> float:\n",
    "    \"\"\"Divide a by b.\n",
    "\n",
    "    Args:\n",
    "        a: first int\n",
    "        b: second int\n",
    "    \"\"\"\n",
    "    return a / b"
   ],
   "id": "593d763275219226",
   "outputs": [],
   "execution_count": 59
  },
  {
   "metadata": {
    "ExecuteTime": {
     "end_time": "2025-06-17T09:49:45.938397Z",
     "start_time": "2025-06-17T09:49:45.907551Z"
    }
   },
   "cell_type": "code",
   "source": [
    "# ------------------------------------------------------ #\n",
    "# MODELS\n",
    "# ------------------------------------------------------ #\n",
    "# chat_llm = ChatTogether(model=\"meta-llama/Llama-3.3-70B-Instruct-Turbo-Free\", api_key=TOGETHER_API_KEY)\n",
    "chat_llm = ChatOllama(model='llama3.2:latest')\n",
    "tools = [add, multiply, divide]\n",
    "llm_with_tools = chat_llm.bind_tools(tools)"
   ],
   "id": "20a6a14e67e73bd7",
   "outputs": [],
   "execution_count": 60
  },
  {
   "metadata": {
    "ExecuteTime": {
     "end_time": "2025-06-17T09:49:45.946456Z",
     "start_time": "2025-06-17T09:49:45.944970Z"
    }
   },
   "cell_type": "code",
   "source": "# llm_with_tools.invoke('what is 2 plus 2')",
   "id": "16d6b9832c7d3f",
   "outputs": [],
   "execution_count": 61
  },
  {
   "metadata": {
    "ExecuteTime": {
     "end_time": "2025-06-17T09:49:45.959652Z",
     "start_time": "2025-06-17T09:49:45.957780Z"
    }
   },
   "cell_type": "code",
   "source": [
    "# ------------------------------------------------------ #\n",
    "# STATE\n",
    "# ------------------------------------------------------ #\n",
    "class State(MessagesState):\n",
    "    summary: str"
   ],
   "id": "9ad6de53b267a85e",
   "outputs": [],
   "execution_count": 62
  },
  {
   "metadata": {
    "ExecuteTime": {
     "end_time": "2025-06-17T09:52:33.458321Z",
     "start_time": "2025-06-17T09:52:33.453372Z"
    }
   },
   "cell_type": "code",
   "source": [
    "# ------------------------------------------------------ #\n",
    "# NODES\n",
    "# ------------------------------------------------------ #\n",
    "from langgraph.errors import NodeInterrupt\n",
    "\n",
    "def human_feedback(state: State):\n",
    "    if len(state['messages'][-1].content) == 0:\n",
    "        raise NodeInterrupt('Please, provide the question')\n",
    "    return state\n",
    "\n",
    "\n",
    "def assistant(state: State):\n",
    "   return {\"messages\": [llm_with_tools.invoke([sys_msg] + state[\"messages\"])]}"
   ],
   "id": "fe42db905ca6d951",
   "outputs": [],
   "execution_count": 88
  },
  {
   "metadata": {
    "ExecuteTime": {
     "end_time": "2025-06-17T09:52:36.900436Z",
     "start_time": "2025-06-17T09:52:36.897911Z"
    }
   },
   "cell_type": "code",
   "source": [
    "# ------------------------------------------------------ #\n",
    "# CONDITIONAL EDGES\n",
    "# ------------------------------------------------------ #"
   ],
   "id": "f433be2c5d541b3b",
   "outputs": [],
   "execution_count": 89
  },
  {
   "metadata": {
    "ExecuteTime": {
     "end_time": "2025-06-17T09:52:37.078786Z",
     "start_time": "2025-06-17T09:52:37.076244Z"
    }
   },
   "cell_type": "code",
   "source": [
    "# ------------------------------------------------------ #\n",
    "# MEMORY\n",
    "# ------------------------------------------------------ #\n",
    "memory = MemorySaver()"
   ],
   "id": "5807491784c274a",
   "outputs": [],
   "execution_count": 90
  },
  {
   "metadata": {
    "ExecuteTime": {
     "end_time": "2025-06-17T09:52:37.258245Z",
     "start_time": "2025-06-17T09:52:37.255874Z"
    }
   },
   "cell_type": "code",
   "source": [
    "# ------------------------------------------------------ #\n",
    "# WORKFLOWS\n",
    "# ------------------------------------------------------ #\n",
    "def workflow_hil():\n",
    "    # define workflow\n",
    "    i_workflow = StateGraph(State)\n",
    "    # nodes\n",
    "    i_workflow.add_node('assistant', assistant)\n",
    "    i_workflow.add_node('tools', ToolNode(tools))\n",
    "    i_workflow.add_node('human_feedback', human_feedback)\n",
    "    # edges\n",
    "    i_workflow.add_edge(START, 'human_feedback')\n",
    "    i_workflow.add_edge('human_feedback', 'assistant')\n",
    "    i_workflow.add_conditional_edges('assistant', tools_condition)\n",
    "    i_workflow.add_edge('tools', 'human_feedback')\n",
    "    return i_workflow"
   ],
   "id": "bb2dc16a069fc67d",
   "outputs": [],
   "execution_count": 91
  },
  {
   "metadata": {
    "ExecuteTime": {
     "end_time": "2025-06-17T09:52:37.697509Z",
     "start_time": "2025-06-17T09:52:37.430677Z"
    }
   },
   "cell_type": "code",
   "source": [
    "# ------------------------------------------------------ #\n",
    "# COMPILE GRAPH\n",
    "# ------------------------------------------------------ #\n",
    "workflow = workflow_hil()\n",
    "graph = workflow.compile(checkpointer=memory)\n",
    "# graph = workflow.compile()\n",
    "# print(graph.get_graph().draw_ascii())\n",
    "display(Image(graph.get_graph().draw_mermaid_png()))"
   ],
   "id": "c7f37a01fb62340b",
   "outputs": [
    {
     "data": {
      "image/png": "[encoded data removed]",
      "text/plain": [
       "<IPython.core.display.Image object>"
      ]
     },
     "metadata": {},
     "output_type": "display_data"
    }
   ],
   "execution_count": 92
  },
  {
   "metadata": {
    "ExecuteTime": {
     "end_time": "2025-06-17T09:52:38.173500Z",
     "start_time": "2025-06-17T09:52:38.165340Z"
    }
   },
   "cell_type": "code",
   "source": [
    "# Input\n",
    "initial_input = {\"messages\": \"\"}\n",
    "\n",
    "# Thread\n",
    "thread = {\"configurable\": {\"thread_id\": \"5\"}}\n",
    "\n",
    "# Run the graph until the first interruption\n",
    "for event in graph.stream(initial_input, thread, stream_mode=\"values\"):\n",
    "    if \"messages\" in event:\n",
    "        event[\"messages\"][-1].pretty_print()"
   ],
   "id": "527d914f11d6ac08",
   "outputs": [
    {
     "name": "stdout",
     "output_type": "stream",
     "text": [
      "================================\u001B[1m Human Message \u001B[0m=================================\n",
      "\n",
      "\n"
     ]
    }
   ],
   "execution_count": 93
  },
  {
   "metadata": {
    "ExecuteTime": {
     "end_time": "2025-06-17T09:51:43.491903Z",
     "start_time": "2025-06-17T09:51:43.485076Z"
    }
   },
   "cell_type": "code",
   "source": [
    "for event in graph.stream(None, thread, stream_mode=\"values\"):\n",
    "    if \"messages\" in event:\n",
    "        event[\"messages\"][-1].pretty_print()"
   ],
   "id": "c94c87b6c0130422",
   "outputs": [
    {
     "name": "stdout",
     "output_type": "stream",
     "text": [
      "================================\u001B[1m Human Message \u001B[0m=================================\n",
      "\n",
      "\n"
     ]
    }
   ],
   "execution_count": 86
  },
  {
   "metadata": {
    "ExecuteTime": {
     "end_time": "2025-06-17T09:53:21.743673Z",
     "start_time": "2025-06-17T09:53:21.740644Z"
    }
   },
   "cell_type": "code",
   "source": [
    "state = graph.get_state(thread)\n",
    "print(state.next)\n",
    "print(state.interrupts[0].value)"
   ],
   "id": "dd5276d48e1e6963",
   "outputs": [
    {
     "name": "stdout",
     "output_type": "stream",
     "text": [
      "('human_feedback',)\n",
      "Please, provide the question\n"
     ]
    }
   ],
   "execution_count": 95
  },
  {
   "metadata": {
    "ExecuteTime": {
     "end_time": "2025-06-17T09:51:09.526631Z",
     "start_time": "2025-06-17T09:51:09.520968Z"
    }
   },
   "cell_type": "code",
   "source": [
    "graph.update_state(\n",
    "    thread,\n",
    "    {\"messages\": HumanMessage(content='And 9 by 8')},\n",
    ")\n",
    "# graph.update_state(thread, {'messages': HumanMessage(content='No, actually multiply 345 and 123')})"
   ],
   "id": "bb18716e42dc8ad2",
   "outputs": [
    {
     "data": {
      "text/plain": [
       "{'configurable': {'thread_id': '5',\n",
       "  'checkpoint_ns': '',\n",
       "  'checkpoint_id': '1f04b609-8753-6286-8007-26393c38799d'}}"
      ]
     },
     "execution_count": 81,
     "metadata": {},
     "output_type": "execute_result"
    }
   ],
   "execution_count": 81
  },
  {
   "metadata": {
    "ExecuteTime": {
     "end_time": "2025-06-17T09:51:11.520613Z",
     "start_time": "2025-06-17T09:51:11.517596Z"
    }
   },
   "cell_type": "code",
   "source": "state = graph.get_state(thread)",
   "id": "9787aaa2647838b3",
   "outputs": [],
   "execution_count": 82
  },
  {
   "metadata": {
    "ExecuteTime": {
     "end_time": "2025-06-17T09:51:13.439446Z",
     "start_time": "2025-06-17T09:51:13.434195Z"
    }
   },
   "cell_type": "code",
   "source": [
    "for event in graph.stream(None, thread, stream_mode=\"values\"):\n",
    "    if \"messages\" in event:\n",
    "\n",
    "        event[\"messages\"][-1].pretty_print()"
   ],
   "id": "9f9a853a34162595",
   "outputs": [
    {
     "name": "stdout",
     "output_type": "stream",
     "text": [
      "================================\u001B[1m Human Message \u001B[0m=================================\n",
      "\n",
      "And 9 by 8\n"
     ]
    }
   ],
   "execution_count": 83
  },
  {
   "metadata": {
    "ExecuteTime": {
     "end_time": "2025-06-17T09:51:18.884272Z",
     "start_time": "2025-06-17T09:51:18.879579Z"
    }
   },
   "cell_type": "code",
   "source": [
    "state = graph.get_state(thread)\n",
    "state.next"
   ],
   "id": "dc522f276001d8f4",
   "outputs": [
    {
     "data": {
      "text/plain": [
       "()"
      ]
     },
     "execution_count": 84,
     "metadata": {},
     "output_type": "execute_result"
    }
   ],
   "execution_count": 84
  },
  {
   "metadata": {},
   "cell_type": "code",
   "outputs": [],
   "execution_count": null,
   "source": "",
   "id": "c02bd0da027c5842"
  }
 ],
 "metadata": {
  "kernelspec": {
   "display_name": "Python 3",
   "language": "python",
   "name": "python3"
  },
  "language_info": {
   "codemirror_mode": {
    "name": "ipython",
    "version": 2
   },
   "file_extension": ".py",
   "mimetype": "text/x-python",
   "name": "python",
   "nbconvert_exporter": "python",
   "pygments_lexer": "ipython2",
   "version": "2.7.6"
  }
 },
 "nbformat": 4,
 "nbformat_minor": 5
}
