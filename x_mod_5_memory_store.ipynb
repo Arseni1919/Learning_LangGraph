{
 "cells": [
  {
   "metadata": {
    "ExecuteTime": {
     "end_time": "2025-06-20T15:46:41.296720Z",
     "start_time": "2025-06-20T15:46:41.290416Z"
    }
   },
   "cell_type": "code",
   "source": [
    "import os\n",
    "from typing import *\n",
    "import operator\n",
    "from urllib.request import build_opener\n",
    "\n",
    "from docutils.nodes import system_message\n",
    "from dotenv import load_dotenv\n",
    "from numba.np.ufunc.parallel import build_gufunc_kernel\n",
    "from torch.jit.frontend import build_def\n",
    "import uuid\n",
    "\n",
    "load_dotenv()\n",
    "from IPython.display import Image, display, Markdown\n",
    "import sqlite3\n",
    "from pydantic import BaseModel, Field\n",
    "\n",
    "\n",
    "from langchain_ollama import ChatOllama\n",
    "from langchain_together import ChatTogether\n",
    "from langchain_huggingface import HuggingFaceEndpoint,ChatHuggingFace\n",
    "from langchain_core.messages import AnyMessage, HumanMessage, AIMessage, SystemMessage, ToolMessage, RemoveMessage, get_buffer_string\n",
    "# from langchain_community.tools import TavilySearchResults\n",
    "from langchain_tavily import TavilySearch\n",
    "from langchain_community.document_loaders import WikipediaLoader\n",
    "from langchain_core.runnables.config import RunnableConfig\n",
    "from langgraph.graph import StateGraph, START, END, MessagesState\n",
    "from langgraph.graph.message import add_messages\n",
    "from langgraph.prebuilt import tools_condition, ToolNode\n",
    "from langgraph.checkpoint.memory import MemorySaver\n",
    "from langgraph.store.memory import InMemoryStore\n",
    "from langgraph.store.base import BaseStore\n",
    "from langgraph.errors import NodeInterrupt\n",
    "from langgraph.types import interrupt, Command\n",
    "from langgraph.constants import Send"
   ],
   "id": "9af34f998096a798",
   "outputs": [],
   "execution_count": 89
  },
  {
   "metadata": {
    "ExecuteTime": {
     "end_time": "2025-06-20T15:46:41.307770Z",
     "start_time": "2025-06-20T15:46:41.305679Z"
    }
   },
   "cell_type": "code",
   "source": [
    "# ------------------------------------------------------ #\n",
    "# GLOBALS\n",
    "# ------------------------------------------------------ #\n",
    "TOGETHER_API_KEY = os.getenv(\"TOGETHER_API_KEY\")\n",
    "\n",
    "# Chatbot instruction\n",
    "MODEL_SYSTEM_MESSAGE = \"\"\"You are a helpful assistant with memory that provides information about the user.\n",
    "If you have memory for this user, use it to personalize your responses.\n",
    "Here is the memory (it may be empty): {memory}\"\"\"\n",
    "\n",
    "# Create new memory from the chat history and any existing memory\n",
    "CREATE_MEMORY_INSTRUCTION = \"\"\"\"You are collecting information about the user to personalize your responses.\n",
    "\n",
    "CURRENT USER INFORMATION:\n",
    "{memory}\n",
    "\n",
    "INSTRUCTIONS:\n",
    "1. Review the chat history below carefully\n",
    "2. Identify new information about the user, such as:\n",
    "   - Personal details (name, location)\n",
    "   - Preferences (likes, dislikes)\n",
    "   - Interests and hobbies\n",
    "   - Past experiences\n",
    "   - Goals or future plans\n",
    "3. Merge any new information with existing memory\n",
    "4. Format the memory as a clear, bulleted list\n",
    "5. If new information conflicts with existing memory, keep the most recent version\n",
    "\n",
    "Remember: Only include factual information directly stated by the user. Do not make assumptions or inferences.\n",
    "\n",
    "Based on the chat history below, please update the user information:\"\"\"\n"
   ],
   "id": "8119480b0917af14",
   "outputs": [],
   "execution_count": 90
  },
  {
   "metadata": {
    "ExecuteTime": {
     "end_time": "2025-06-20T15:46:41.349039Z",
     "start_time": "2025-06-20T15:46:41.319203Z"
    }
   },
   "cell_type": "code",
   "source": [
    "# ------------------------------------------------------ #\n",
    "# MODELS\n",
    "# ------------------------------------------------------ #\n",
    "# chat_llm = ChatTogether(model=\"meta-llama/Llama-3.3-70B-Instruct-Turbo-Free\", api_key=TOGETHER_API_KEY)\n",
    "chat_llm = ChatOllama(model='llama3.2:latest')"
   ],
   "id": "a343c9e1383f42c4",
   "outputs": [],
   "execution_count": 91
  },
  {
   "metadata": {
    "ExecuteTime": {
     "end_time": "2025-06-20T15:46:41.357597Z",
     "start_time": "2025-06-20T15:46:41.356283Z"
    }
   },
   "cell_type": "code",
   "source": [
    "# ------------------------------------------------------ #\n",
    "# STORE\n",
    "# ------------------------------------------------------ #\n",
    "in_memory_store = InMemoryStore()"
   ],
   "id": "7de47e8e2911fe8e",
   "outputs": [],
   "execution_count": 92
  },
  {
   "metadata": {
    "ExecuteTime": {
     "end_time": "2025-06-20T15:46:41.365731Z",
     "start_time": "2025-06-20T15:46:41.363798Z"
    }
   },
   "cell_type": "code",
   "source": [
    "# Namespace for the memory to save\n",
    "user_id = \"1\"\n",
    "namespace_for_memory = (user_id, \"memories\")"
   ],
   "id": "1d7fefffe74566ba",
   "outputs": [],
   "execution_count": 93
  },
  {
   "metadata": {
    "ExecuteTime": {
     "end_time": "2025-06-20T15:46:41.378633Z",
     "start_time": "2025-06-20T15:46:41.377177Z"
    }
   },
   "cell_type": "code",
   "source": [
    "\n",
    "# Save a memory to namespace as key and value\n",
    "key = str(uuid.uuid4())\n",
    "\n",
    "# The value needs to be a dictionary\n",
    "value = {\"food_preference\" : \"I like pizza\"}"
   ],
   "id": "2fdaf6ed2e9b4453",
   "outputs": [],
   "execution_count": 94
  },
  {
   "metadata": {
    "ExecuteTime": {
     "end_time": "2025-06-20T15:46:41.389384Z",
     "start_time": "2025-06-20T15:46:41.387797Z"
    }
   },
   "cell_type": "code",
   "source": [
    "\n",
    "# Save the memory\n",
    "in_memory_store.put(namespace_for_memory, key, value)"
   ],
   "id": "abd653191c7b31ab",
   "outputs": [],
   "execution_count": 95
  },
  {
   "metadata": {
    "ExecuteTime": {
     "end_time": "2025-06-20T15:46:41.400315Z",
     "start_time": "2025-06-20T15:46:41.397985Z"
    }
   },
   "cell_type": "code",
   "source": "key",
   "id": "20563fc5c7dd8fb1",
   "outputs": [
    {
     "data": {
      "text/plain": [
       "'97da09b4-8fe4-4f51-8ca8-d7369e30519c'"
      ]
     },
     "execution_count": 96,
     "metadata": {},
     "output_type": "execute_result"
    }
   ],
   "execution_count": 96
  },
  {
   "metadata": {
    "ExecuteTime": {
     "end_time": "2025-06-20T15:46:41.418282Z",
     "start_time": "2025-06-20T15:46:41.416042Z"
    }
   },
   "cell_type": "code",
   "source": [
    "# Search\n",
    "memories = in_memory_store.search(namespace_for_memory)\n",
    "print(type(memories))"
   ],
   "id": "7d43cef1e24ed9ba",
   "outputs": [
    {
     "name": "stdout",
     "output_type": "stream",
     "text": [
      "<class 'list'>\n"
     ]
    }
   ],
   "execution_count": 97
  },
  {
   "metadata": {
    "ExecuteTime": {
     "end_time": "2025-06-20T15:46:41.433490Z",
     "start_time": "2025-06-20T15:46:41.431093Z"
    }
   },
   "cell_type": "code",
   "source": [
    "\n",
    "memories[0].dict()"
   ],
   "id": "8cd17b6c921d36ce",
   "outputs": [
    {
     "data": {
      "text/plain": [
       "{'namespace': ['1', 'memories'],\n",
       " 'key': '97da09b4-8fe4-4f51-8ca8-d7369e30519c',\n",
       " 'value': {'food_preference': 'I like pizza'},\n",
       " 'created_at': '2025-06-20T15:46:41.388187+00:00',\n",
       " 'updated_at': '2025-06-20T15:46:41.388188+00:00',\n",
       " 'score': None}"
      ]
     },
     "execution_count": 98,
     "metadata": {},
     "output_type": "execute_result"
    }
   ],
   "execution_count": 98
  },
  {
   "metadata": {
    "ExecuteTime": {
     "end_time": "2025-06-20T15:46:41.453099Z",
     "start_time": "2025-06-20T15:46:41.450956Z"
    }
   },
   "cell_type": "code",
   "source": [
    "memory = in_memory_store.get(namespace_for_memory, key)\n",
    "memory.dict()"
   ],
   "id": "3afda8b276cc7ac7",
   "outputs": [
    {
     "data": {
      "text/plain": [
       "{'namespace': ['1', 'memories'],\n",
       " 'key': '97da09b4-8fe4-4f51-8ca8-d7369e30519c',\n",
       " 'value': {'food_preference': 'I like pizza'},\n",
       " 'created_at': '2025-06-20T15:46:41.388187+00:00',\n",
       " 'updated_at': '2025-06-20T15:46:41.388188+00:00'}"
      ]
     },
     "execution_count": 99,
     "metadata": {},
     "output_type": "execute_result"
    }
   ],
   "execution_count": 99
  },
  {
   "cell_type": "code",
   "id": "initial_id",
   "metadata": {
    "collapsed": true,
    "ExecuteTime": {
     "end_time": "2025-06-20T15:46:41.587614Z",
     "start_time": "2025-06-20T15:46:41.467449Z"
    }
   },
   "source": [
    "# ------------------------------------------------------ #\n",
    "# Use semantic search\n",
    "# ------------------------------------------------------ #\n",
    "from langchain.embeddings import init_embeddings\n",
    "from langgraph.store.memory import InMemoryStore\n",
    "\n",
    "# Create store with semantic search enabled\n",
    "# embeddings = init_embeddings(\"openai:text-embedding-3-small\")\n",
    "embeddings = init_embeddings(model=\"nomic-embed-text\", provider='ollama')\n",
    "store = InMemoryStore(\n",
    "    index={\n",
    "        \"embed\": embeddings,\n",
    "        \"dims\": 1536,\n",
    "    }\n",
    ")\n",
    "\n",
    "store.put((\"user_123\", \"memories\"), \"1\", {\"text\": \"I love pizza\"})\n",
    "store.put((\"user_123\", \"memories\"), \"2\", {\"text\": \"I am a plumber\"})\n",
    "\n",
    "items = store.search(\n",
    "    (\"user_123\", \"memories\"), query=\"I'm hungry\", limit=1\n",
    ")\n",
    "items"
   ],
   "outputs": [
    {
     "data": {
      "text/plain": [
       "[Item(namespace=['user_123', 'memories'], key='1', value={'text': 'I love pizza'}, created_at='2025-06-20T15:46:41.550431+00:00', updated_at='2025-06-20T15:46:41.550434+00:00', score=0.5926771739597143)]"
      ]
     },
     "execution_count": 100,
     "metadata": {},
     "output_type": "execute_result"
    }
   ],
   "execution_count": 100
  },
  {
   "metadata": {
    "ExecuteTime": {
     "end_time": "2025-06-20T15:46:41.600715Z",
     "start_time": "2025-06-20T15:46:41.598933Z"
    }
   },
   "cell_type": "code",
   "source": [
    "# ------------------------------------------------------ #\n",
    "# STATES\n",
    "# ------------------------------------------------------ #"
   ],
   "id": "78c78fddd13f5164",
   "outputs": [],
   "execution_count": 101
  },
  {
   "metadata": {
    "ExecuteTime": {
     "end_time": "2025-06-20T15:46:41.617195Z",
     "start_time": "2025-06-20T15:46:41.612711Z"
    }
   },
   "cell_type": "code",
   "source": [
    "# ------------------------------------------------------ #\n",
    "# NODES\n",
    "# ------------------------------------------------------ #\n",
    "def call_model(state: MessagesState, config: RunnableConfig, store: BaseStore):\n",
    "\n",
    "    \"\"\"Load memory from the store and use it to personalize the chatbot's response.\"\"\"\n",
    "\n",
    "    # Get the user ID from the config\n",
    "    user_id = config[\"configurable\"][\"user_id\"]\n",
    "\n",
    "    # Retrieve memory from the store\n",
    "    namespace = (\"memory\", user_id)\n",
    "    key = \"user_memory\"\n",
    "    existing_memory = store.get(namespace, key)\n",
    "\n",
    "    # Extract the actual memory content if it exists and add a prefix\n",
    "    if existing_memory:\n",
    "        # Value is a dictionary with a memory key\n",
    "        existing_memory_content = existing_memory.value.get('memory')\n",
    "    else:\n",
    "        existing_memory_content = \"No existing memory found.\"\n",
    "\n",
    "    # Format the memory in the system prompt\n",
    "    system_msg = MODEL_SYSTEM_MESSAGE.format(memory=existing_memory_content)\n",
    "\n",
    "    # Respond using memory as well as the chat history\n",
    "    response = chat_llm.invoke([SystemMessage(content=system_msg)]+state[\"messages\"])\n",
    "\n",
    "    return {\"messages\": response}\n",
    "\n",
    "def write_memory(state: MessagesState, config: RunnableConfig, store: BaseStore):\n",
    "\n",
    "    \"\"\"Reflect on the chat history and save a memory to the store.\"\"\"\n",
    "\n",
    "    # Get the user ID from the config\n",
    "    user_id = config[\"configurable\"][\"user_id\"]\n",
    "\n",
    "    # Retrieve existing memory from the store\n",
    "    namespace = (\"memory\", user_id)\n",
    "    existing_memory = store.get(namespace, \"user_memory\")\n",
    "\n",
    "    # Extract the memory\n",
    "    if existing_memory:\n",
    "        existing_memory_content = existing_memory.value.get('memory')\n",
    "    else:\n",
    "        existing_memory_content = \"No existing memory found.\"\n",
    "\n",
    "    # Format the memory in the system prompt\n",
    "    system_msg = CREATE_MEMORY_INSTRUCTION.format(memory=existing_memory_content)\n",
    "    new_memory = chat_llm.invoke([SystemMessage(content=system_msg)]+state['messages'])\n",
    "    print(f'VVV\\n{new_memory}\\n^^^')\n",
    "\n",
    "    # Overwrite the existing memory in the store\n",
    "    key = \"user_memory\"\n",
    "\n",
    "    # Write value as a dictionary with a memory key\n",
    "    store.put(namespace, key, {\"memory\": new_memory.content})\n",
    "    return {}"
   ],
   "id": "6fe79359fbe2eb47",
   "outputs": [],
   "execution_count": 102
  },
  {
   "metadata": {
    "ExecuteTime": {
     "end_time": "2025-06-20T15:46:41.630337Z",
     "start_time": "2025-06-20T15:46:41.628351Z"
    }
   },
   "cell_type": "code",
   "source": [
    "# ------------------------------------------------------ #\n",
    "# CONDITIONAL EDGES\n",
    "# ------------------------------------------------------ #"
   ],
   "id": "481b77f823f4710b",
   "outputs": [],
   "execution_count": 103
  },
  {
   "metadata": {
    "ExecuteTime": {
     "end_time": "2025-06-20T15:46:41.648544Z",
     "start_time": "2025-06-20T15:46:41.644177Z"
    }
   },
   "cell_type": "code",
   "source": [
    "# ------------------------------------------------------ #\n",
    "# WORKFLOWS\n",
    "# ------------------------------------------------------ #\n",
    "builder = StateGraph(MessagesState)\n",
    "builder.add_node(\"call_model\", call_model)\n",
    "builder.add_node(\"write_memory\", write_memory)\n",
    "builder.add_edge(START, \"call_model\")\n",
    "builder.add_edge(\"call_model\", \"write_memory\")\n",
    "builder.add_edge(\"write_memory\", END)"
   ],
   "id": "aa5e2d07be7641be",
   "outputs": [
    {
     "data": {
      "text/plain": [
       "<langgraph.graph.state.StateGraph at 0x11e44b140>"
      ]
     },
     "execution_count": 104,
     "metadata": {},
     "output_type": "execute_result"
    }
   ],
   "execution_count": 104
  },
  {
   "metadata": {
    "ExecuteTime": {
     "end_time": "2025-06-20T15:46:41.669666Z",
     "start_time": "2025-06-20T15:46:41.667646Z"
    }
   },
   "cell_type": "code",
   "source": [
    "# ------------------------------------------------------ #\n",
    "# MEMORIES\n",
    "# ------------------------------------------------------ #\n",
    "# Checkpointer for short-term (within-thread) memory\n",
    "within_thread_memory = MemorySaver()\n",
    "\n",
    "# Store for long-term (across-thread) memory\n",
    "across_thread_memory = InMemoryStore()"
   ],
   "id": "e29f33e87971196c",
   "outputs": [],
   "execution_count": 105
  },
  {
   "metadata": {
    "ExecuteTime": {
     "end_time": "2025-06-20T15:46:41.855249Z",
     "start_time": "2025-06-20T15:46:41.680532Z"
    }
   },
   "cell_type": "code",
   "source": [
    "# ------------------------------------------------------ #\n",
    "# COMPILE\n",
    "# ------------------------------------------------------ #\n",
    "# Compile the graph with the checkpointer fir and store\n",
    "graph = builder.compile(checkpointer=within_thread_memory, store=across_thread_memory)\n",
    "\n",
    "# View\n",
    "display(Image(graph.get_graph(xray=1).draw_mermaid_png()))"
   ],
   "id": "4f0ba4deace6f752",
   "outputs": [
    {
     "data": {
      "image/png": "[encoded data removed]",
      "text/plain": [
       "<IPython.core.display.Image object>"
      ]
     },
     "metadata": {},
     "output_type": "display_data"
    }
   ],
   "execution_count": 106
  },
  {
   "metadata": {
    "ExecuteTime": {
     "end_time": "2025-06-20T15:46:43.828839Z",
     "start_time": "2025-06-20T15:46:41.864986Z"
    }
   },
   "cell_type": "code",
   "source": [
    "# ------------------------------------------------------ #\n",
    "# INVOCATION\n",
    "# ------------------------------------------------------ #\n",
    "# We supply a thread ID for short-term (within-thread) memory\n",
    "# We supply a user ID for long-term (across-thread) memory\n",
    "config = {\"configurable\": {\"thread_id\": \"1\", \"user_id\": \"1\"}}\n",
    "\n",
    "# User input\n",
    "input_messages = [HumanMessage(content=\"Hi, my name is Lance\")]\n",
    "\n",
    "# Run the graph\n",
    "for chunk in graph.stream({\"messages\": input_messages}, config, stream_mode=\"values\"):\n",
    "    chunk[\"messages\"][-1].pretty_print()"
   ],
   "id": "5d3e69df21e3b60b",
   "outputs": [
    {
     "name": "stdout",
     "output_type": "stream",
     "text": [
      "================================\u001B[1m Human Message \u001B[0m=================================\n",
      "\n",
      "Hi, my name is Lance\n",
      "==================================\u001B[1m Ai Message \u001B[0m==================================\n",
      "\n",
      "Hello Lance! It's nice to meet you. I don't have any information about you yet, but I'm happy to start a conversation and learn more about you. How's your day going so far?\n",
      "VVV\n",
      "content='' additional_kwargs={} response_metadata={'model': 'llama3.2:latest', 'created_at': '2025-06-20T15:46:43.825224Z', 'done': True, 'done_reason': 'stop', 'total_duration': 544057042, 'load_duration': 10258833, 'prompt_eval_count': 226, 'prompt_eval_duration': 532466833, 'eval_count': 1, 'eval_duration': 392708, 'model_name': 'llama3.2:latest'} id='run--1f17575a-78a9-4be5-a472-af86a4496080-0' usage_metadata={'input_tokens': 226, 'output_tokens': 1, 'total_tokens': 227}\n",
      "^^^\n"
     ]
    }
   ],
   "execution_count": 107
  },
  {
   "metadata": {
    "ExecuteTime": {
     "end_time": "2025-06-20T15:46:46.877392Z",
     "start_time": "2025-06-20T15:46:43.842900Z"
    }
   },
   "cell_type": "code",
   "source": [
    "# User input\n",
    "input_messages = [HumanMessage(content=\"I like to bike around San Francisco\")]\n",
    "\n",
    "# Run the graph\n",
    "for chunk in graph.stream({\"messages\": input_messages}, config, stream_mode=\"values\"):\n",
    "    chunk[\"messages\"][-1].pretty_print()"
   ],
   "id": "84743cd25d8ba55a",
   "outputs": [
    {
     "name": "stdout",
     "output_type": "stream",
     "text": [
      "================================\u001B[1m Human Message \u001B[0m=================================\n",
      "\n",
      "I like to bike around San Francisco\n",
      "==================================\u001B[1m Ai Message \u001B[0m==================================\n",
      "\n",
      "San Francisco is a great city for biking! There are plenty of scenic routes and bike paths that wind through the city. What do you enjoy most about biking in SF - is it the views of the Golden Gate Bridge, the hills, or something else? Have you explored any of the more popular bike spots like Fisherman's Wharf or Golden Gate Park?\n",
      "VVV\n",
      "content='' additional_kwargs={} response_metadata={'model': 'llama3.2:latest', 'created_at': '2025-06-20T15:46:46.868365Z', 'done': True, 'done_reason': 'stop', 'total_duration': 763152250, 'load_duration': 10243625, 'prompt_eval_count': 310, 'prompt_eval_duration': 751076500, 'eval_count': 1, 'eval_duration': 401541, 'model_name': 'llama3.2:latest'} id='run--6e3bf236-1d7d-418a-8d0d-412772562db7-0' usage_metadata={'input_tokens': 310, 'output_tokens': 1, 'total_tokens': 311}\n",
      "^^^\n"
     ]
    }
   ],
   "execution_count": 108
  },
  {
   "metadata": {
    "ExecuteTime": {
     "end_time": "2025-06-20T15:46:51.769822Z",
     "start_time": "2025-06-20T15:46:50.628091Z"
    }
   },
   "cell_type": "code",
   "source": [
    "thread = {\"configurable\": {\"thread_id\": \"1\"}}\n",
    "state = graph.get_state(thread).values\n",
    "for m in state[\"messages\"]:\n",
    "    m.pretty_print()"
   ],
   "id": "5ab8fe6c070cdc32",
   "outputs": [
    {
     "name": "stdout",
     "output_type": "stream",
     "text": [
      "================================\u001B[1m Human Message \u001B[0m=================================\n",
      "\n",
      "Hi, my name is Lance\n",
      "==================================\u001B[1m Ai Message \u001B[0m==================================\n",
      "\n",
      "Hello Lance! It's nice to meet you. I don't have any information about you yet, but I'm happy to start a conversation and learn more about you. How's your day going so far?\n",
      "================================\u001B[1m Human Message \u001B[0m=================================\n",
      "\n",
      "I like to bike around San Francisco\n",
      "==================================\u001B[1m Ai Message \u001B[0m==================================\n",
      "\n",
      "San Francisco is a great city for biking! There are plenty of scenic routes and bike paths that wind through the city. What do you enjoy most about biking in SF - is it the views of the Golden Gate Bridge, the hills, or something else? Have you explored any of the more popular bike spots like Fisherman's Wharf or Golden Gate Park?\n"
     ]
    }
   ],
   "execution_count": 109
  },
  {
   "metadata": {
    "ExecuteTime": {
     "end_time": "2025-06-20T15:45:06.301633Z",
     "start_time": "2025-06-20T15:45:06.298233Z"
    }
   },
   "cell_type": "code",
   "source": [
    "# Namespace for the memory to save\n",
    "user_id = \"1\"\n",
    "namespace = (\"memory\", user_id)\n",
    "existing_memory = across_thread_memory.get(namespace, \"user_memory\")\n",
    "existing_memory.dict()"
   ],
   "id": "40ddab80361fcd5e",
   "outputs": [
    {
     "data": {
      "text/plain": [
       "{'namespace': ['memory', '1'],\n",
       " 'key': 'user_memory',\n",
       " 'value': {'memory': ''},\n",
       " 'created_at': '2025-06-20T15:45:06.256620+00:00',\n",
       " 'updated_at': '2025-06-20T15:45:06.256624+00:00'}"
      ]
     },
     "execution_count": 87,
     "metadata": {},
     "output_type": "execute_result"
    }
   ],
   "execution_count": 87
  },
  {
   "metadata": {},
   "cell_type": "code",
   "outputs": [],
   "execution_count": null,
   "source": "",
   "id": "bf6177dbb56e4ec9"
  }
 ],
 "metadata": {
  "kernelspec": {
   "display_name": "Python 3",
   "language": "python",
   "name": "python3"
  },
  "language_info": {
   "codemirror_mode": {
    "name": "ipython",
    "version": 2
   },
   "file_extension": ".py",
   "mimetype": "text/x-python",
   "name": "python",
   "nbconvert_exporter": "python",
   "pygments_lexer": "ipython2",
   "version": "2.7.6"
  }
 },
 "nbformat": 4,
 "nbformat_minor": 5
}
